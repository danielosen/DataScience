{
 "cells": [
  {
   "cell_type": "markdown",
   "metadata": {
    "deletable": true,
    "editable": true
   },
   "source": [
    "# About notebook:\n",
    "\n",
    "* Sandbox notebook with Børge's trials\n",
    "* Updated to load from MongoDB\n",
    "\n",
    "## Content:\n",
    "* Currently mapping ACLED dataset with geodataset (country names) to enable plotting of results\n",
    "\n",
    "\n",
    "## Deleted\n",
    "* Deleted one-hot encoding material (moved to separate module + notebook with example)"
   ]
  },
  {
   "cell_type": "markdown",
   "metadata": {
    "deletable": true,
    "editable": true
   },
   "source": [
    "# Imports"
   ]
  },
  {
   "cell_type": "code",
   "execution_count": 2,
   "metadata": {
    "collapsed": true,
    "deletable": true,
    "editable": true
   },
   "outputs": [],
   "source": [
    "import pandas as pd\n",
    "import numpy as np\n",
    "import datetime\n",
    "\n",
    "%matplotlib inline"
   ]
  },
  {
   "cell_type": "markdown",
   "metadata": {
    "deletable": true,
    "editable": true
   },
   "source": [
    "## Importing ACLED data from MongoDB"
   ]
  },
  {
   "cell_type": "code",
   "execution_count": 3,
   "metadata": {
    "collapsed": false,
    "deletable": true,
    "editable": true
   },
   "outputs": [],
   "source": [
    "import sys\n",
    "sys.path.insert(0, '../')\n",
    "import modules.datasets"
   ]
  },
  {
   "cell_type": "code",
   "execution_count": 4,
   "metadata": {
    "collapsed": false,
    "deletable": true,
    "editable": true
   },
   "outputs": [],
   "source": [
    "acled = modules.datasets.ACLED()\n",
    "acled.mongodb_update_database()"
   ]
  },
  {
   "cell_type": "code",
   "execution_count": 5,
   "metadata": {
    "collapsed": false,
    "deletable": true,
    "editable": true
   },
   "outputs": [],
   "source": [
    "# Loading ACLED-data to pandas.Dataframe:\n",
    "df = acled.mongodb_get_entire_database()"
   ]
  },
  {
   "cell_type": "markdown",
   "metadata": {
    "deletable": true,
    "editable": true
   },
   "source": [
    "# Mini-dataset to play with"
   ]
  },
  {
   "cell_type": "code",
   "execution_count": 6,
   "metadata": {
    "collapsed": true,
    "deletable": true,
    "editable": true
   },
   "outputs": [],
   "source": [
    "df_f = df[['event_date', 'country', 'event_type', 'fatalities']].copy()"
   ]
  },
  {
   "cell_type": "markdown",
   "metadata": {
    "deletable": true,
    "editable": true
   },
   "source": [
    "# Matching 'countries' in ACLED with 'name' in geo-frame:"
   ]
  },
  {
   "cell_type": "code",
   "execution_count": 7,
   "metadata": {
    "collapsed": false,
    "deletable": true,
    "editable": true
   },
   "outputs": [],
   "source": [
    "# Loading shapefile:\n",
    "sys.path.insert(0, '../modules/')\n",
    "from ImportShapefile import ImportShapefile\n",
    "# Update the link to where you have stored the shapefiles:\n",
    "link = '../data/ne_110m_admin_0_countries/ne_110m_admin_0_countries.shp'\n",
    "df_geo_shapefile = ImportShapefile(link).get_df()\n",
    "\n",
    "mask = df_geo_shapefile['continent']=='Africa'\n",
    "df_geo_africa = df_geo_shapefile.loc[mask,:].reset_index(drop=True)\n",
    "\n"
   ]
  },
  {
   "cell_type": "markdown",
   "metadata": {
    "deletable": true,
    "editable": true
   },
   "source": [
    "We now have two lists containing the names of the countries as they are written in the two datasets:"
   ]
  },
  {
   "cell_type": "code",
   "execution_count": 8,
   "metadata": {
    "collapsed": false
   },
   "outputs": [],
   "source": [
    "cn_acled = df['country'].unique()\n",
    "cn_geo =   df_geo_africa['name'].unique()\n",
    "\n",
    "country_names_acled = pd.DataFrame({\"names\": cn_acled, \"acled\": cn_acled})\n",
    "country_names_geo =   pd.DataFrame({\"names\": cn_geo, \"geo\": cn_geo})"
   ]
  },
  {
   "cell_type": "code",
   "execution_count": 9,
   "metadata": {
    "collapsed": false,
    "scrolled": true
   },
   "outputs": [],
   "source": [
    "column_names = pd.merge(country_names_acled, country_names_geo, on=\"names\", how='outer').drop(\"names\", 1)"
   ]
  },
  {
   "cell_type": "code",
   "execution_count": 10,
   "metadata": {
    "collapsed": false
   },
   "outputs": [],
   "source": [
    "not_in_acled = column_names['acled'].isnull()\n",
    "not_in_geo  =  column_names['geo'].isnull()"
   ]
  },
  {
   "cell_type": "code",
   "execution_count": 11,
   "metadata": {
    "collapsed": false
   },
   "outputs": [
    {
     "data": {
      "text/html": [
       "<div>\n",
       "<table border=\"1\" class=\"dataframe\">\n",
       "  <thead>\n",
       "    <tr style=\"text-align: right;\">\n",
       "      <th></th>\n",
       "      <th>acled</th>\n",
       "      <th>geo</th>\n",
       "    </tr>\n",
       "  </thead>\n",
       "  <tbody>\n",
       "    <tr>\n",
       "      <th>2</th>\n",
       "      <td>Ivory Coast</td>\n",
       "      <td>NaN</td>\n",
       "    </tr>\n",
       "    <tr>\n",
       "      <th>4</th>\n",
       "      <td>Democratic Republic of Congo</td>\n",
       "      <td>NaN</td>\n",
       "    </tr>\n",
       "    <tr>\n",
       "      <th>9</th>\n",
       "      <td>South Sudan</td>\n",
       "      <td>NaN</td>\n",
       "    </tr>\n",
       "    <tr>\n",
       "      <th>23</th>\n",
       "      <td>Central African Republic</td>\n",
       "      <td>NaN</td>\n",
       "    </tr>\n",
       "    <tr>\n",
       "      <th>40</th>\n",
       "      <td>Republic of Congo</td>\n",
       "      <td>NaN</td>\n",
       "    </tr>\n",
       "    <tr>\n",
       "      <th>42</th>\n",
       "      <td>Mozambique</td>\n",
       "      <td>NaN</td>\n",
       "    </tr>\n",
       "    <tr>\n",
       "      <th>49</th>\n",
       "      <td>Equatorial Guinea</td>\n",
       "      <td>NaN</td>\n",
       "    </tr>\n",
       "  </tbody>\n",
       "</table>\n",
       "</div>"
      ],
      "text/plain": [
       "                           acled  geo\n",
       "2                    Ivory Coast  NaN\n",
       "4   Democratic Republic of Congo  NaN\n",
       "9                    South Sudan  NaN\n",
       "23      Central African Republic  NaN\n",
       "40             Republic of Congo  NaN\n",
       "42                   Mozambique   NaN\n",
       "49             Equatorial Guinea  NaN"
      ]
     },
     "execution_count": 11,
     "metadata": {},
     "output_type": "execute_result"
    }
   ],
   "source": [
    "column_names.loc[not_in_geo]"
   ]
  },
  {
   "cell_type": "code",
   "execution_count": 13,
   "metadata": {
    "collapsed": false
   },
   "outputs": [],
   "source": [
    "column_names.loc[2 ,'geo'] = \"Côte d'Ivoire\"\n",
    "column_names.loc[4 ,'geo'] = \"Dem. Rep. Congo\"\n",
    "column_names.loc[9 ,'geo'] = \"S. Sudan\"\n",
    "column_names.loc[23,'geo'] = \"Central African Rep.\"\n",
    "column_names.loc[40,'geo'] = \"Congo\"\n",
    "column_names.loc[42,'geo'] = \"DAMNIT? :P\"\n",
    "column_names.loc[49,'geo'] = \"Eq. Guinea\"\n"
   ]
  },
  {
   "cell_type": "code",
   "execution_count": null,
   "metadata": {
    "collapsed": false
   },
   "outputs": [],
   "source": []
  },
  {
   "cell_type": "code",
   "execution_count": null,
   "metadata": {
    "collapsed": false
   },
   "outputs": [],
   "source": [
    "country_names_geo = pd.DataFrame({\"name\": country_names_geo})"
   ]
  },
  {
   "cell_type": "code",
   "execution_count": null,
   "metadata": {
    "collapsed": false,
    "scrolled": true
   },
   "outputs": [],
   "source": [
    "column_names.merge(country_names_geo, how='name')"
   ]
  },
  {
   "cell_type": "markdown",
   "metadata": {
    "deletable": true,
    "editable": true
   },
   "source": [
    "### TODO for this section\n",
    "Create pandas.DataFrame with two columns:\n",
    "- 'ACLED country'\n",
    "- 'Sharefile country'\n",
    "\n",
    "Use pandas functions to align the same country, thereafter manually map the rest.\n",
    "\n",
    "#### Result\n",
    "As a result, we can map statistics from on country to the mapping functions (e.g. results on 'Ivory Coast' correctly represented on the map with name 'Côte d'Ivoire')."
   ]
  },
  {
   "cell_type": "markdown",
   "metadata": {
    "deletable": true,
    "editable": true
   },
   "source": [
    "# WARNING: In work, nothing done below\n",
    "\n",
    "# Plotting fatalities\n",
    "Inspired by Dirk's examples in lecture 13.02."
   ]
  },
  {
   "cell_type": "markdown",
   "metadata": {
    "deletable": true,
    "editable": true
   },
   "source": [
    "### Creating pivot table\n",
    "* Important to set 'aggfunc' to sum (standard is mean)"
   ]
  },
  {
   "cell_type": "code",
   "execution_count": null,
   "metadata": {
    "collapsed": false,
    "deletable": true,
    "editable": true
   },
   "outputs": [],
   "source": [
    "df_piv = df_f.pivot_table(index='event_date',\n",
    "                              columns='country',\n",
    "                              values='fatalities',\n",
    "                              aggfunc=np.sum)"
   ]
  },
  {
   "cell_type": "markdown",
   "metadata": {
    "deletable": true,
    "editable": true
   },
   "source": [
    "### Resampling pivot to monthly"
   ]
  },
  {
   "cell_type": "code",
   "execution_count": null,
   "metadata": {
    "collapsed": true,
    "deletable": true,
    "editable": true
   },
   "outputs": [],
   "source": [
    "df_piv = df_piv.resample('1M').sum()"
   ]
  },
  {
   "cell_type": "markdown",
   "metadata": {
    "deletable": true,
    "editable": true
   },
   "source": [
    "### Extract countries\n",
    "Extract 5 countries with highest total fatalities (for plotting)"
   ]
  },
  {
   "cell_type": "code",
   "execution_count": null,
   "metadata": {
    "collapsed": false,
    "deletable": true,
    "editable": true,
    "scrolled": true
   },
   "outputs": [],
   "source": [
    "most_fat = list(df_piv.sum().sort_values(\n",
    "                     ascending=False)[0:5].index)"
   ]
  },
  {
   "cell_type": "code",
   "execution_count": null,
   "metadata": {
    "collapsed": false,
    "deletable": true,
    "editable": true
   },
   "outputs": [],
   "source": [
    "print(\"Total number of events:\")\n",
    "df_piv.sum().sort_values(\n",
    "                     ascending=False)[0:5]"
   ]
  },
  {
   "cell_type": "code",
   "execution_count": null,
   "metadata": {
    "collapsed": false,
    "deletable": true,
    "editable": true,
    "scrolled": true
   },
   "outputs": [],
   "source": [
    "df_fat = df_piv[most_fat]"
   ]
  },
  {
   "cell_type": "code",
   "execution_count": null,
   "metadata": {
    "collapsed": false,
    "deletable": true,
    "editable": true
   },
   "outputs": [],
   "source": [
    "ax = df_fat.plot(figsize=(10,8))\n",
    "ax.set_ylabel(\"Fatalities\")\n",
    "ax.set_xlabel(\"Month\")"
   ]
  },
  {
   "cell_type": "markdown",
   "metadata": {
    "collapsed": false,
    "deletable": true,
    "editable": true
   },
   "source": [
    "## Plotting using pandas\n",
    "Pandas is more flexible and allows zooming ++"
   ]
  },
  {
   "cell_type": "code",
   "execution_count": null,
   "metadata": {
    "collapsed": false,
    "deletable": true,
    "editable": true
   },
   "outputs": [],
   "source": [
    "# TO BE FIXED"
   ]
  },
  {
   "cell_type": "markdown",
   "metadata": {
    "deletable": true,
    "editable": true
   },
   "source": [
    "# Bokeh geo-plotting\n",
    "Based on:\n",
    "http://nbviewer.jupyter.org/github/bokeh/bokeh-notebooks/blob/master/tutorial/11%20-%20geo.ipynb"
   ]
  },
  {
   "cell_type": "code",
   "execution_count": null,
   "metadata": {
    "collapsed": false,
    "deletable": true,
    "editable": true
   },
   "outputs": [],
   "source": [
    "from bokeh.io import output_notebook, show\n",
    "output_notebook()"
   ]
  },
  {
   "cell_type": "code",
   "execution_count": null,
   "metadata": {
    "collapsed": false,
    "deletable": true,
    "editable": true
   },
   "outputs": [],
   "source": [
    "from bokeh.plotting import figure\n",
    "from bokeh.tile_providers import WMTSTileSource\n",
    "\n",
    "# NOTE: This is a little off Africa, but can easily be moved:\n",
    "dist = 6000000\n",
    "x_min = -30000\n",
    "y_min = -8000000\n",
    "\n",
    "Africa = x_range,y_range = ((-x_min,x_min+dist), (-y_min,y_min+dist))\n",
    "\n",
    "fig = figure(tools='pan, wheel_zoom', x_range=x_range, y_range=y_range)\n",
    "fig.axis.visible = False"
   ]
  },
  {
   "cell_type": "code",
   "execution_count": null,
   "metadata": {
    "collapsed": false,
    "deletable": true,
    "editable": true,
    "scrolled": true
   },
   "outputs": [],
   "source": [
    "url = 'http://a.basemaps.cartocdn.com/dark_all/{Z}/{X}/{Y}.png'\n",
    "attribution = \"Map tiles by Carto, under CC BY 3.0. Data by OpenStreetMap, under ODbL\"\n",
    "\n",
    "fig.add_tile(WMTSTileSource(url=url, attribution=attribution))"
   ]
  },
  {
   "cell_type": "code",
   "execution_count": null,
   "metadata": {
    "collapsed": false,
    "deletable": true,
    "editable": true,
    "scrolled": true
   },
   "outputs": [],
   "source": [
    "show(fig)"
   ]
  },
  {
   "cell_type": "markdown",
   "metadata": {
    "deletable": true,
    "editable": true
   },
   "source": [
    "## Adding some points:"
   ]
  },
  {
   "cell_type": "code",
   "execution_count": null,
   "metadata": {
    "collapsed": true,
    "deletable": true,
    "editable": true
   },
   "outputs": [],
   "source": [
    "# Function comes from tutorial (see section header):\n",
    "def wgs84_to_web_mercator(df, lon=\"LONGITUDE\", lat=\"LATITUDE\"):\n",
    "    \"\"\"Converts decimal longitude/latitude to Web Mercator format\"\"\"\n",
    "    k = 6378137\n",
    "    df[\"x\"] = df[lon] * (k * np.pi/180.0)\n",
    "    df[\"y\"] = np.log(np.tan((90 + df[lat]) * np.pi/360.0)) * k\n",
    "    return df"
   ]
  },
  {
   "cell_type": "markdown",
   "metadata": {
    "deletable": true,
    "editable": true
   },
   "source": [
    "Selecting nor or less random samples (statistically speaking"
   ]
  },
  {
   "cell_type": "code",
   "execution_count": null,
   "metadata": {
    "collapsed": false,
    "deletable": true,
    "editable": true
   },
   "outputs": [],
   "source": [
    "N_points = 10000\n",
    "\n",
    "test_points = df.iloc[0:N_points][['COUNTRY','LATITUDE', 'LONGITUDE', 'FATALITIES']]"
   ]
  },
  {
   "cell_type": "code",
   "execution_count": null,
   "metadata": {
    "collapsed": false,
    "deletable": true,
    "editable": true
   },
   "outputs": [],
   "source": [
    "wgs84_to_web_mercator(test_points)\n",
    "\n",
    "None # To surpress output from function call"
   ]
  },
  {
   "cell_type": "markdown",
   "metadata": {
    "deletable": true,
    "editable": true
   },
   "source": [
    "#### Plotting the points from above\n",
    "**Note**: Size of plot set proportional with fatalities, in a little dodgy way (for now)"
   ]
  },
  {
   "cell_type": "code",
   "execution_count": null,
   "metadata": {
    "collapsed": false,
    "deletable": true,
    "editable": true
   },
   "outputs": [],
   "source": [
    "fig.circle(x=test_points['x'], y=test_points['y'],fill_color='blue', size=4*np.log(1+test_points['FATALITIES']))\n",
    "show(fig)"
   ]
  },
  {
   "cell_type": "code",
   "execution_count": null,
   "metadata": {
    "collapsed": true,
    "deletable": true,
    "editable": true
   },
   "outputs": [],
   "source": []
  },
  {
   "cell_type": "code",
   "execution_count": null,
   "metadata": {
    "collapsed": true,
    "deletable": true,
    "editable": true
   },
   "outputs": [],
   "source": []
  }
 ],
 "metadata": {
  "kernelspec": {
   "display_name": "Python 3",
   "language": "python",
   "name": "python3"
  }
 },
 "nbformat": 4,
 "nbformat_minor": 2
}
