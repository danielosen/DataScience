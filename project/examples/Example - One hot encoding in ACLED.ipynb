{
 "cells": [
  {
   "cell_type": "markdown",
   "metadata": {
    "deletable": true,
    "editable": true
   },
   "source": [
    "# About notebook:\n",
    "\n",
    "* Updated to load data from MongoDB\n",
    "* Sandbox version of function to enable one-hot encoding\n",
    "  * Will update and eventually move into 'modules'\n",
    "  * I think we should keep it outside of the ACLED class, as functions are generic and can be used on other data\n",
    " \n",
    "Note that content is a bit immature (per 7th of March 2017)."
   ]
  },
  {
   "cell_type": "markdown",
   "metadata": {
    "deletable": true,
    "editable": true
   },
   "source": [
    "# Imports"
   ]
  },
  {
   "cell_type": "code",
   "execution_count": 1,
   "metadata": {
    "collapsed": true,
    "deletable": true,
    "editable": true
   },
   "outputs": [],
   "source": [
    "import pandas as pd\n",
    "import numpy as np\n",
    "import datetime\n",
    "\n",
    "%matplotlib inline"
   ]
  },
  {
   "cell_type": "markdown",
   "metadata": {
    "deletable": true,
    "editable": true
   },
   "source": [
    "## Importing ACLED data from MongoDB"
   ]
  },
  {
   "cell_type": "code",
   "execution_count": 2,
   "metadata": {
    "collapsed": true,
    "deletable": true,
    "editable": true
   },
   "outputs": [],
   "source": [
    "import sys\n",
    "sys.path.insert(0, '../')\n",
    "import datasets"
   ]
  },
  {
   "cell_type": "code",
   "execution_count": 3,
   "metadata": {
    "collapsed": false,
    "deletable": true,
    "editable": true
   },
   "outputs": [
    {
     "data": {
      "text/plain": [
       "<bound method ACLED.mongodb_update_database of <datasets.ACLED object at 0x10e63f6a0>>"
      ]
     },
     "execution_count": 3,
     "metadata": {},
     "output_type": "execute_result"
    }
   ],
   "source": [
    "acled = datasets.ACLED()\n",
    "acled.mongodb_update_database"
   ]
  },
  {
   "cell_type": "code",
   "execution_count": 4,
   "metadata": {
    "collapsed": true,
    "deletable": true,
    "editable": true
   },
   "outputs": [],
   "source": [
    "# Loading ACLED-data to pandas.Dataframe:\n",
    "df = acled.mongodb_get_entire_database()"
   ]
  },
  {
   "cell_type": "code",
   "execution_count": null,
   "metadata": {
    "collapsed": false,
    "deletable": true,
    "editable": true
   },
   "outputs": [],
   "source": []
  },
  {
   "cell_type": "markdown",
   "metadata": {
    "deletable": true,
    "editable": true
   },
   "source": [
    "# Mini-dataset to play with"
   ]
  },
  {
   "cell_type": "code",
   "execution_count": 5,
   "metadata": {
    "collapsed": true,
    "deletable": true,
    "editable": true
   },
   "outputs": [],
   "source": [
    "df_f = df[['event_date', 'country', 'event_type', 'fatalities']].copy()"
   ]
  },
  {
   "cell_type": "markdown",
   "metadata": {
    "deletable": true,
    "editable": true
   },
   "source": [
    "# Load the new encoding function:\n",
    "I will add this into the 'module' section.\n",
    "\n",
    "That said: \n",
    "* I think we should keep it outside of the ACLED class, as functions are generic and can be used on other data"
   ]
  },
  {
   "cell_type": "code",
   "execution_count": 6,
   "metadata": {
    "collapsed": true,
    "deletable": true,
    "editable": true
   },
   "outputs": [],
   "source": [
    "\n",
    "def _invert_dict_nonunique(d):\n",
    "    \"\"\" Inverting nonunique dictionary 'd'\n",
    "    \n",
    "    Reference:\n",
    "    [1] http://www.saltycrane.com/blog/2008/01/how-to-invert-dict-in-python/\n",
    "    \"\"\"\n",
    "    newdict = {}\n",
    "    for k, v in d.iteritems():\n",
    "        newdict.setdefault(v, []).append(k)\n",
    "    return newdict\n",
    "\n",
    "def encoding_col_values_to_num(df, col, lower=True, strip=True, preset_dict=None):\n",
    "    \"\"\"Values of df['col'] encoded as numerical pandas.Series + dict\n",
    "    \n",
    "    Results in:\n",
    "    category_col[category_dict] == df['col']           *\n",
    "     \n",
    "    *: Modulo str.lower() and str.strip(), if applied\n",
    "    \n",
    "    Keyword arguments:\n",
    "        df -- pandas.Dataframe\n",
    "        col -- Column (string) encoding is applied to,\n",
    "               the column should contain strings.\n",
    "        lower -- Ignore case? Default: True\n",
    "        strip -- Strip strings? Default: True\n",
    "        preset_dict -- Enables encoding using custom dictionary (custom grouping) \n",
    "                       \n",
    "    \n",
    "    Returns:\n",
    "        category_col -- pandas.Series\n",
    "        category_dict -- dict        \n",
    "\n",
    "    Warning: Does not change 'column' in the passed dataframe.\n",
    "    \n",
    "    Todo:\n",
    "        - Finalize 'presed_dict' functionality: Enabling customized dictionaries.\n",
    "          currently inversion of dictionary will cause error.\n",
    "        - Alternatively remove code related to 'prest_dict' (including function '_invert_dict_nonunique') \n",
    "    \"\"\"\n",
    "    column = df[col].copy()\n",
    "    if lower:\n",
    "        column = column.apply(str.lower)\n",
    "    if strip:\n",
    "        column = column.apply(str.strip)\n",
    "\n",
    "    if preset_dict:\n",
    "        mapping_dict = preset_dict\n",
    "        # Inverting mapping_dict:\n",
    "        category_dict = _invert_dict_nonunique(mapping_dict)\n",
    "    else:\n",
    "        categories = column.unique()\n",
    "        mapping_dict = {category : i for i, category in enumerate(categories)}\n",
    "        # Inverting mapping_dict:\n",
    "        category_dict = dict([(v, k) for k, v in mapping_dict.items()])\n",
    "\n",
    "\n",
    "    # Establishing \n",
    "    category_col = pd.Series(column.map(mapping_dict), dtype=int)\n",
    "\n",
    "    # Verifies that all rows were successfully coded:\n",
    "    assert(category_col.isnull().any()==False)\n",
    "           \n",
    "    return category_col, category_dict"
   ]
  },
  {
   "cell_type": "markdown",
   "metadata": {
    "deletable": true,
    "editable": true
   },
   "source": [
    "# Apply the encoding function"
   ]
  },
  {
   "cell_type": "code",
   "execution_count": 7,
   "metadata": {
    "collapsed": false,
    "deletable": true,
    "editable": true
   },
   "outputs": [],
   "source": [
    "event_cat_col, event_type_dict = encoding_col_values_to_num(df_f, 'event_type')\n",
    "\n",
    "df_f['event_cat'] = event_cat_col"
   ]
  },
  {
   "cell_type": "code",
   "execution_count": 12,
   "metadata": {
    "collapsed": false,
    "deletable": true,
    "editable": true
   },
   "outputs": [
    {
     "data": {
      "text/html": [
       "<div>\n",
       "<table border=\"1\" class=\"dataframe\">\n",
       "  <thead>\n",
       "    <tr style=\"text-align: right;\">\n",
       "      <th></th>\n",
       "      <th>event_date</th>\n",
       "      <th>country</th>\n",
       "      <th>event_type</th>\n",
       "      <th>fatalities</th>\n",
       "      <th>event_cat</th>\n",
       "    </tr>\n",
       "  </thead>\n",
       "  <tbody>\n",
       "    <tr>\n",
       "      <th>0</th>\n",
       "      <td>2017-02-18</td>\n",
       "      <td>Somalia</td>\n",
       "      <td>Violence against civilians</td>\n",
       "      <td>1</td>\n",
       "      <td>0</td>\n",
       "    </tr>\n",
       "    <tr>\n",
       "      <th>1</th>\n",
       "      <td>2017-02-18</td>\n",
       "      <td>Libya</td>\n",
       "      <td>Battle-No change of territory</td>\n",
       "      <td>1</td>\n",
       "      <td>1</td>\n",
       "    </tr>\n",
       "    <tr>\n",
       "      <th>2</th>\n",
       "      <td>2017-02-18</td>\n",
       "      <td>Ivory Coast</td>\n",
       "      <td>Riots/Protests</td>\n",
       "      <td>0</td>\n",
       "      <td>2</td>\n",
       "    </tr>\n",
       "    <tr>\n",
       "      <th>3</th>\n",
       "      <td>2017-02-18</td>\n",
       "      <td>Ethiopia</td>\n",
       "      <td>Violence against civilians</td>\n",
       "      <td>1</td>\n",
       "      <td>0</td>\n",
       "    </tr>\n",
       "    <tr>\n",
       "      <th>4</th>\n",
       "      <td>2017-02-18</td>\n",
       "      <td>Somalia</td>\n",
       "      <td>Battle-No change of territory</td>\n",
       "      <td>1</td>\n",
       "      <td>1</td>\n",
       "    </tr>\n",
       "    <tr>\n",
       "      <th>5</th>\n",
       "      <td>2017-02-18</td>\n",
       "      <td>Democratic Republic of Congo</td>\n",
       "      <td>Battle-No change of territory</td>\n",
       "      <td>0</td>\n",
       "      <td>1</td>\n",
       "    </tr>\n",
       "    <tr>\n",
       "      <th>6</th>\n",
       "      <td>2017-02-18</td>\n",
       "      <td>Algeria</td>\n",
       "      <td>Riots/Protests</td>\n",
       "      <td>0</td>\n",
       "      <td>2</td>\n",
       "    </tr>\n",
       "    <tr>\n",
       "      <th>7</th>\n",
       "      <td>2017-02-18</td>\n",
       "      <td>Egypt</td>\n",
       "      <td>Battle-No change of territory</td>\n",
       "      <td>1</td>\n",
       "      <td>1</td>\n",
       "    </tr>\n",
       "    <tr>\n",
       "      <th>8</th>\n",
       "      <td>2017-02-18</td>\n",
       "      <td>South Africa</td>\n",
       "      <td>Riots/Protests</td>\n",
       "      <td>0</td>\n",
       "      <td>2</td>\n",
       "    </tr>\n",
       "    <tr>\n",
       "      <th>9</th>\n",
       "      <td>2017-02-18</td>\n",
       "      <td>Somalia</td>\n",
       "      <td>Battle-No change of territory</td>\n",
       "      <td>3</td>\n",
       "      <td>1</td>\n",
       "    </tr>\n",
       "  </tbody>\n",
       "</table>\n",
       "</div>"
      ],
      "text/plain": [
       "  event_date                       country                     event_type  \\\n",
       "0 2017-02-18                       Somalia     Violence against civilians   \n",
       "1 2017-02-18                         Libya  Battle-No change of territory   \n",
       "2 2017-02-18                   Ivory Coast                 Riots/Protests   \n",
       "3 2017-02-18                      Ethiopia     Violence against civilians   \n",
       "4 2017-02-18                       Somalia  Battle-No change of territory   \n",
       "5 2017-02-18  Democratic Republic of Congo  Battle-No change of territory   \n",
       "6 2017-02-18                       Algeria                 Riots/Protests   \n",
       "7 2017-02-18                         Egypt  Battle-No change of territory   \n",
       "8 2017-02-18                  South Africa                 Riots/Protests   \n",
       "9 2017-02-18                       Somalia  Battle-No change of territory   \n",
       "\n",
       "   fatalities  event_cat  \n",
       "0           1          0  \n",
       "1           1          1  \n",
       "2           0          2  \n",
       "3           1          0  \n",
       "4           1          1  \n",
       "5           0          1  \n",
       "6           0          2  \n",
       "7           1          1  \n",
       "8           0          2  \n",
       "9           3          1  "
      ]
     },
     "execution_count": 12,
     "metadata": {},
     "output_type": "execute_result"
    }
   ],
   "source": [
    "df_f.head(10)"
   ]
  },
  {
   "cell_type": "markdown",
   "metadata": {
    "deletable": true,
    "editable": true
   },
   "source": [
    "## Quick check to verify the above does the correct thing\n",
    "... in essence: that the (new numerical categories + dict) in fact do correspond to the event type:"
   ]
  },
  {
   "cell_type": "code",
   "execution_count": 9,
   "metadata": {
    "collapsed": false,
    "deletable": true,
    "editable": true
   },
   "outputs": [
    {
     "data": {
      "text/plain": [
       "True"
      ]
     },
     "execution_count": 9,
     "metadata": {},
     "output_type": "execute_result"
    }
   ],
   "source": [
    "(df_f['event_cat'].map(event_type_dict) == df_f['event_type'].apply(str.lower).apply(str.strip)).all()"
   ]
  },
  {
   "cell_type": "markdown",
   "metadata": {
    "deletable": true,
    "editable": true
   },
   "source": [
    "## One-hot encoding (using pandas)\n",
    "... aaaand we're done:"
   ]
  },
  {
   "cell_type": "code",
   "execution_count": 11,
   "metadata": {
    "collapsed": false,
    "deletable": true,
    "editable": true
   },
   "outputs": [
    {
     "data": {
      "text/html": [
       "<div>\n",
       "<table border=\"1\" class=\"dataframe\">\n",
       "  <thead>\n",
       "    <tr style=\"text-align: right;\">\n",
       "      <th></th>\n",
       "      <th>event_date</th>\n",
       "      <th>country</th>\n",
       "      <th>event_type</th>\n",
       "      <th>fatalities</th>\n",
       "      <th>event_cat_1</th>\n",
       "      <th>event_cat_2</th>\n",
       "      <th>event_cat_3</th>\n",
       "      <th>event_cat_4</th>\n",
       "      <th>event_cat_5</th>\n",
       "      <th>event_cat_6</th>\n",
       "      <th>event_cat_7</th>\n",
       "      <th>event_cat_8</th>\n",
       "    </tr>\n",
       "  </thead>\n",
       "  <tbody>\n",
       "    <tr>\n",
       "      <th>0</th>\n",
       "      <td>2017-02-18</td>\n",
       "      <td>Somalia</td>\n",
       "      <td>Violence against civilians</td>\n",
       "      <td>1</td>\n",
       "      <td>0</td>\n",
       "      <td>0</td>\n",
       "      <td>0</td>\n",
       "      <td>0</td>\n",
       "      <td>0</td>\n",
       "      <td>0</td>\n",
       "      <td>0</td>\n",
       "      <td>0</td>\n",
       "    </tr>\n",
       "    <tr>\n",
       "      <th>1</th>\n",
       "      <td>2017-02-18</td>\n",
       "      <td>Libya</td>\n",
       "      <td>Battle-No change of territory</td>\n",
       "      <td>1</td>\n",
       "      <td>1</td>\n",
       "      <td>0</td>\n",
       "      <td>0</td>\n",
       "      <td>0</td>\n",
       "      <td>0</td>\n",
       "      <td>0</td>\n",
       "      <td>0</td>\n",
       "      <td>0</td>\n",
       "    </tr>\n",
       "    <tr>\n",
       "      <th>2</th>\n",
       "      <td>2017-02-18</td>\n",
       "      <td>Ivory Coast</td>\n",
       "      <td>Riots/Protests</td>\n",
       "      <td>0</td>\n",
       "      <td>0</td>\n",
       "      <td>1</td>\n",
       "      <td>0</td>\n",
       "      <td>0</td>\n",
       "      <td>0</td>\n",
       "      <td>0</td>\n",
       "      <td>0</td>\n",
       "      <td>0</td>\n",
       "    </tr>\n",
       "    <tr>\n",
       "      <th>3</th>\n",
       "      <td>2017-02-18</td>\n",
       "      <td>Ethiopia</td>\n",
       "      <td>Violence against civilians</td>\n",
       "      <td>1</td>\n",
       "      <td>0</td>\n",
       "      <td>0</td>\n",
       "      <td>0</td>\n",
       "      <td>0</td>\n",
       "      <td>0</td>\n",
       "      <td>0</td>\n",
       "      <td>0</td>\n",
       "      <td>0</td>\n",
       "    </tr>\n",
       "    <tr>\n",
       "      <th>4</th>\n",
       "      <td>2017-02-18</td>\n",
       "      <td>Somalia</td>\n",
       "      <td>Battle-No change of territory</td>\n",
       "      <td>1</td>\n",
       "      <td>1</td>\n",
       "      <td>0</td>\n",
       "      <td>0</td>\n",
       "      <td>0</td>\n",
       "      <td>0</td>\n",
       "      <td>0</td>\n",
       "      <td>0</td>\n",
       "      <td>0</td>\n",
       "    </tr>\n",
       "    <tr>\n",
       "      <th>5</th>\n",
       "      <td>2017-02-18</td>\n",
       "      <td>Democratic Republic of Congo</td>\n",
       "      <td>Battle-No change of territory</td>\n",
       "      <td>0</td>\n",
       "      <td>1</td>\n",
       "      <td>0</td>\n",
       "      <td>0</td>\n",
       "      <td>0</td>\n",
       "      <td>0</td>\n",
       "      <td>0</td>\n",
       "      <td>0</td>\n",
       "      <td>0</td>\n",
       "    </tr>\n",
       "    <tr>\n",
       "      <th>6</th>\n",
       "      <td>2017-02-18</td>\n",
       "      <td>Algeria</td>\n",
       "      <td>Riots/Protests</td>\n",
       "      <td>0</td>\n",
       "      <td>0</td>\n",
       "      <td>1</td>\n",
       "      <td>0</td>\n",
       "      <td>0</td>\n",
       "      <td>0</td>\n",
       "      <td>0</td>\n",
       "      <td>0</td>\n",
       "      <td>0</td>\n",
       "    </tr>\n",
       "    <tr>\n",
       "      <th>7</th>\n",
       "      <td>2017-02-18</td>\n",
       "      <td>Egypt</td>\n",
       "      <td>Battle-No change of territory</td>\n",
       "      <td>1</td>\n",
       "      <td>1</td>\n",
       "      <td>0</td>\n",
       "      <td>0</td>\n",
       "      <td>0</td>\n",
       "      <td>0</td>\n",
       "      <td>0</td>\n",
       "      <td>0</td>\n",
       "      <td>0</td>\n",
       "    </tr>\n",
       "    <tr>\n",
       "      <th>8</th>\n",
       "      <td>2017-02-18</td>\n",
       "      <td>South Africa</td>\n",
       "      <td>Riots/Protests</td>\n",
       "      <td>0</td>\n",
       "      <td>0</td>\n",
       "      <td>1</td>\n",
       "      <td>0</td>\n",
       "      <td>0</td>\n",
       "      <td>0</td>\n",
       "      <td>0</td>\n",
       "      <td>0</td>\n",
       "      <td>0</td>\n",
       "    </tr>\n",
       "    <tr>\n",
       "      <th>9</th>\n",
       "      <td>2017-02-18</td>\n",
       "      <td>Somalia</td>\n",
       "      <td>Battle-No change of territory</td>\n",
       "      <td>3</td>\n",
       "      <td>1</td>\n",
       "      <td>0</td>\n",
       "      <td>0</td>\n",
       "      <td>0</td>\n",
       "      <td>0</td>\n",
       "      <td>0</td>\n",
       "      <td>0</td>\n",
       "      <td>0</td>\n",
       "    </tr>\n",
       "  </tbody>\n",
       "</table>\n",
       "</div>"
      ],
      "text/plain": [
       "  event_date                       country                     event_type  \\\n",
       "0 2017-02-18                       Somalia     Violence against civilians   \n",
       "1 2017-02-18                         Libya  Battle-No change of territory   \n",
       "2 2017-02-18                   Ivory Coast                 Riots/Protests   \n",
       "3 2017-02-18                      Ethiopia     Violence against civilians   \n",
       "4 2017-02-18                       Somalia  Battle-No change of territory   \n",
       "5 2017-02-18  Democratic Republic of Congo  Battle-No change of territory   \n",
       "6 2017-02-18                       Algeria                 Riots/Protests   \n",
       "7 2017-02-18                         Egypt  Battle-No change of territory   \n",
       "8 2017-02-18                  South Africa                 Riots/Protests   \n",
       "9 2017-02-18                       Somalia  Battle-No change of territory   \n",
       "\n",
       "   fatalities  event_cat_1  event_cat_2  event_cat_3  event_cat_4  \\\n",
       "0           1            0            0            0            0   \n",
       "1           1            1            0            0            0   \n",
       "2           0            0            1            0            0   \n",
       "3           1            0            0            0            0   \n",
       "4           1            1            0            0            0   \n",
       "5           0            1            0            0            0   \n",
       "6           0            0            1            0            0   \n",
       "7           1            1            0            0            0   \n",
       "8           0            0            1            0            0   \n",
       "9           3            1            0            0            0   \n",
       "\n",
       "   event_cat_5  event_cat_6  event_cat_7  event_cat_8  \n",
       "0            0            0            0            0  \n",
       "1            0            0            0            0  \n",
       "2            0            0            0            0  \n",
       "3            0            0            0            0  \n",
       "4            0            0            0            0  \n",
       "5            0            0            0            0  \n",
       "6            0            0            0            0  \n",
       "7            0            0            0            0  \n",
       "8            0            0            0            0  \n",
       "9            0            0            0            0  "
      ]
     },
     "execution_count": 11,
     "metadata": {},
     "output_type": "execute_result"
    }
   ],
   "source": [
    "pd.get_dummies(df_f, columns=['event_cat'], drop_first=True).head(10)"
   ]
  },
  {
   "cell_type": "markdown",
   "metadata": {
    "deletable": true,
    "editable": true
   },
   "source": [
    "### Todo (hot-encoding)\n",
    "Will have to implement into function that does what we need with it :) :)"
   ]
  }
 ],
 "metadata": {
  "kernelspec": {
   "display_name": "Python 3",
   "language": "python",
   "name": "python3"
  },
  "language_info": {
   "codemirror_mode": {
    "name": "ipython",
    "version": 3
   },
   "file_extension": ".py",
   "mimetype": "text/x-python",
   "name": "python",
   "nbconvert_exporter": "python",
   "pygments_lexer": "ipython3",
   "version": "3.6.0"
  }
 },
 "nbformat": 4,
 "nbformat_minor": 2
}
