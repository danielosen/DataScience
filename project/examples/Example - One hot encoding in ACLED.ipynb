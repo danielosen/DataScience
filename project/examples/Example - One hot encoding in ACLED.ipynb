{
 "cells": [
  {
   "cell_type": "markdown",
   "metadata": {
    "deletable": true,
    "editable": true
   },
   "source": [
    "# About notebook:\n",
    "\n",
    "* Updated to load data from MongoDB\n",
    "* Sandbox version of function to enable one-hot encoding\n",
    "  * Will update and eventually move into 'modules'\n",
    "  * I think we should keep it outside of the ACLED class, as functions are generic and can be used on other data\n",
    " \n",
    "Note that content is a bit immature (per 7th of March 2017)."
   ]
  },
  {
   "cell_type": "markdown",
   "metadata": {
    "deletable": true,
    "editable": true
   },
   "source": [
    "# Imports"
   ]
  },
  {
   "cell_type": "code",
   "execution_count": 1,
   "metadata": {
    "collapsed": true,
    "deletable": true,
    "editable": true
   },
   "outputs": [],
   "source": [
    "import pandas as pd\n",
    "import numpy as np\n",
    "import datetime\n",
    "\n",
    "%matplotlib inline"
   ]
  },
  {
   "cell_type": "markdown",
   "metadata": {},
   "source": [
    "# Autoreloading external modules"
   ]
  },
  {
   "cell_type": "code",
   "execution_count": 2,
   "metadata": {
    "collapsed": false
   },
   "outputs": [
    {
     "name": "stdout",
     "output_type": "stream",
     "text": [
      "Loaded\n"
     ]
    }
   ],
   "source": [
    "# for auto-reloading external modules\n",
    "# see http://stackoverflow.com/questions/1907993/autoreload-of-modules-in-ipython\n",
    "%load_ext autoreload\n",
    "%autoreload 2\n",
    "print('Loaded')"
   ]
  },
  {
   "cell_type": "markdown",
   "metadata": {
    "deletable": true,
    "editable": true
   },
   "source": [
    "## Importing ACLED data from MongoDB"
   ]
  },
  {
   "cell_type": "code",
   "execution_count": 3,
   "metadata": {
    "collapsed": true,
    "deletable": true,
    "editable": true
   },
   "outputs": [],
   "source": [
    "import sys\n",
    "sys.path.insert(0, '../')\n",
    "import modules.datasets"
   ]
  },
  {
   "cell_type": "code",
   "execution_count": 4,
   "metadata": {
    "collapsed": false,
    "deletable": true,
    "editable": true
   },
   "outputs": [
    {
     "data": {
      "text/plain": [
       "<bound method ACLED.mongodb_update_database of <modules.datasets.ACLED object at 0x108ec90b8>>"
      ]
     },
     "execution_count": 4,
     "metadata": {},
     "output_type": "execute_result"
    }
   ],
   "source": [
    "acled = modules.datasets.ACLED()\n",
    "acled.mongodb_update_database"
   ]
  },
  {
   "cell_type": "code",
   "execution_count": 5,
   "metadata": {
    "collapsed": true,
    "deletable": true,
    "editable": true
   },
   "outputs": [],
   "source": [
    "# Loading ACLED-data to pandas.Dataframe:\n",
    "df = acled.mongodb_get_entire_database()"
   ]
  },
  {
   "cell_type": "markdown",
   "metadata": {
    "deletable": true,
    "editable": true
   },
   "source": [
    "# Mini-dataset to play with"
   ]
  },
  {
   "cell_type": "code",
   "execution_count": 6,
   "metadata": {
    "collapsed": true,
    "deletable": true,
    "editable": true
   },
   "outputs": [],
   "source": [
    "df_f = df[['event_date', 'country', 'event_type', 'fatalities']].copy()"
   ]
  },
  {
   "cell_type": "markdown",
   "metadata": {},
   "source": [
    "# Full one-hot encoding:\n",
    "Everything you need to apply one-hot encoding summarized with:"
   ]
  },
  {
   "cell_type": "code",
   "execution_count": 7,
   "metadata": {
    "collapsed": false
   },
   "outputs": [
    {
     "data": {
      "text/html": [
       "<div>\n",
       "<table border=\"1\" class=\"dataframe\">\n",
       "  <thead>\n",
       "    <tr style=\"text-align: right;\">\n",
       "      <th></th>\n",
       "      <th>event_date</th>\n",
       "      <th>country</th>\n",
       "      <th>event_type</th>\n",
       "      <th>fatalities</th>\n",
       "      <th>e_type_1</th>\n",
       "      <th>e_type_2</th>\n",
       "      <th>e_type_3</th>\n",
       "      <th>e_type_4</th>\n",
       "      <th>e_type_5</th>\n",
       "      <th>e_type_6</th>\n",
       "      <th>e_type_7</th>\n",
       "      <th>e_type_8</th>\n",
       "    </tr>\n",
       "  </thead>\n",
       "  <tbody>\n",
       "    <tr>\n",
       "      <th>0</th>\n",
       "      <td>2017-02-18</td>\n",
       "      <td>Somalia</td>\n",
       "      <td>Violence against civilians</td>\n",
       "      <td>1</td>\n",
       "      <td>0</td>\n",
       "      <td>0</td>\n",
       "      <td>0</td>\n",
       "      <td>0</td>\n",
       "      <td>0</td>\n",
       "      <td>0</td>\n",
       "      <td>0</td>\n",
       "      <td>0</td>\n",
       "    </tr>\n",
       "    <tr>\n",
       "      <th>1</th>\n",
       "      <td>2017-02-18</td>\n",
       "      <td>Libya</td>\n",
       "      <td>Battle-No change of territory</td>\n",
       "      <td>1</td>\n",
       "      <td>1</td>\n",
       "      <td>0</td>\n",
       "      <td>0</td>\n",
       "      <td>0</td>\n",
       "      <td>0</td>\n",
       "      <td>0</td>\n",
       "      <td>0</td>\n",
       "      <td>0</td>\n",
       "    </tr>\n",
       "    <tr>\n",
       "      <th>2</th>\n",
       "      <td>2017-02-18</td>\n",
       "      <td>Ivory Coast</td>\n",
       "      <td>Riots/Protests</td>\n",
       "      <td>0</td>\n",
       "      <td>0</td>\n",
       "      <td>1</td>\n",
       "      <td>0</td>\n",
       "      <td>0</td>\n",
       "      <td>0</td>\n",
       "      <td>0</td>\n",
       "      <td>0</td>\n",
       "      <td>0</td>\n",
       "    </tr>\n",
       "    <tr>\n",
       "      <th>3</th>\n",
       "      <td>2017-02-18</td>\n",
       "      <td>Ethiopia</td>\n",
       "      <td>Violence against civilians</td>\n",
       "      <td>1</td>\n",
       "      <td>0</td>\n",
       "      <td>0</td>\n",
       "      <td>0</td>\n",
       "      <td>0</td>\n",
       "      <td>0</td>\n",
       "      <td>0</td>\n",
       "      <td>0</td>\n",
       "      <td>0</td>\n",
       "    </tr>\n",
       "    <tr>\n",
       "      <th>4</th>\n",
       "      <td>2017-02-18</td>\n",
       "      <td>Somalia</td>\n",
       "      <td>Battle-No change of territory</td>\n",
       "      <td>1</td>\n",
       "      <td>1</td>\n",
       "      <td>0</td>\n",
       "      <td>0</td>\n",
       "      <td>0</td>\n",
       "      <td>0</td>\n",
       "      <td>0</td>\n",
       "      <td>0</td>\n",
       "      <td>0</td>\n",
       "    </tr>\n",
       "    <tr>\n",
       "      <th>5</th>\n",
       "      <td>2017-02-18</td>\n",
       "      <td>Democratic Republic of Congo</td>\n",
       "      <td>Battle-No change of territory</td>\n",
       "      <td>0</td>\n",
       "      <td>1</td>\n",
       "      <td>0</td>\n",
       "      <td>0</td>\n",
       "      <td>0</td>\n",
       "      <td>0</td>\n",
       "      <td>0</td>\n",
       "      <td>0</td>\n",
       "      <td>0</td>\n",
       "    </tr>\n",
       "  </tbody>\n",
       "</table>\n",
       "</div>"
      ],
      "text/plain": [
       "  event_date                       country                     event_type  \\\n",
       "0 2017-02-18                       Somalia     Violence against civilians   \n",
       "1 2017-02-18                         Libya  Battle-No change of territory   \n",
       "2 2017-02-18                   Ivory Coast                 Riots/Protests   \n",
       "3 2017-02-18                      Ethiopia     Violence against civilians   \n",
       "4 2017-02-18                       Somalia  Battle-No change of territory   \n",
       "5 2017-02-18  Democratic Republic of Congo  Battle-No change of territory   \n",
       "\n",
       "   fatalities  e_type_1  e_type_2  e_type_3  e_type_4  e_type_5  e_type_6  \\\n",
       "0           1         0         0         0         0         0         0   \n",
       "1           1         1         0         0         0         0         0   \n",
       "2           0         0         1         0         0         0         0   \n",
       "3           1         0         0         0         0         0         0   \n",
       "4           1         1         0         0         0         0         0   \n",
       "5           0         1         0         0         0         0         0   \n",
       "\n",
       "   e_type_7  e_type_8  \n",
       "0         0         0  \n",
       "1         0         0  \n",
       "2         0         0  \n",
       "3         0         0  \n",
       "4         0         0  \n",
       "5         0         0  "
      ]
     },
     "execution_count": 7,
     "metadata": {},
     "output_type": "execute_result"
    }
   ],
   "source": [
    "import modules.utils\n",
    "\n",
    "df_onehot, event_type_dict = modules.utils.apply_one_hot_encoding(df_f, encode_col='event_type', col_prefix='e_type')\n",
    "\n",
    "df_onehot.head(6)"
   ]
  },
  {
   "cell_type": "markdown",
   "metadata": {},
   "source": [
    "The categories above are decoded by:\n",
    "\n",
    "- event_type_dict[#number]"
   ]
  },
  {
   "cell_type": "code",
   "execution_count": 8,
   "metadata": {
    "collapsed": false
   },
   "outputs": [
    {
     "name": "stdout",
     "output_type": "stream",
     "text": [
      "0 : violence against civilians\n",
      "1 : battle-no change of territory\n",
      "2 : riots/protests\n",
      "3 : strategic development\n",
      "4 : remote violence\n",
      "5 : battle-government regains territory\n",
      "6 : battle-non-state actor overtakes territory\n",
      "7 : non-violent transfer of territory\n",
      "8 : headquarters or base established\n"
     ]
    }
   ],
   "source": [
    "for i, e_type in event_type_dict.items():\n",
    "    print(i, ':', e_type)"
   ]
  },
  {
   "cell_type": "markdown",
   "metadata": {},
   "source": [
    "## Ready for analysis\n",
    "With the above, you can apply ML techniques :)"
   ]
  },
  {
   "cell_type": "markdown",
   "metadata": {
    "deletable": true,
    "editable": true
   },
   "source": [
    "\n",
    "# Background info:\n",
    "\n",
    "The below shows in some more detail what the one-hot encoding function is doing and also contains some tests. <font color='red'>The below is NOT required for using one-hot encoding. For that, the above is sufficient.</font>\n"
   ]
  },
  {
   "cell_type": "code",
   "execution_count": 9,
   "metadata": {
    "collapsed": false,
    "deletable": true,
    "editable": true
   },
   "outputs": [],
   "source": [
    "import modules.utils\n",
    "event_cat_col, event_type_dict = modules.utils.encoding_col_values_to_num(df_f, encode_col='event_type')\n",
    "\n",
    "df_f['event_cat'] = event_cat_col"
   ]
  },
  {
   "cell_type": "markdown",
   "metadata": {},
   "source": [
    "### Quick check to verify the above does the correct thing\n",
    "... in essence: that the (new numerical categories + dict) in fact do correspond to the event type:"
   ]
  },
  {
   "cell_type": "code",
   "execution_count": 10,
   "metadata": {
    "collapsed": false
   },
   "outputs": [
    {
     "name": "stdout",
     "output_type": "stream",
     "text": [
      "If encoding did what we wanted, the last word should be True: True\n"
     ]
    }
   ],
   "source": [
    "true_if_it_worked = (df_f['event_cat'].map(event_type_dict) == df_f['event_type'].apply(str.lower).apply(str.strip)).all()\n",
    "\n",
    "print(\"If encoding did what we wanted, the last word should be True:\", true_if_it_worked)"
   ]
  },
  {
   "cell_type": "markdown",
   "metadata": {},
   "source": [
    "### Explanation:\n",
    "We've added column 'event_cat' to the dataframe. Dictionary 'event_type_dict' translates from category number to name of category:"
   ]
  },
  {
   "cell_type": "code",
   "execution_count": 11,
   "metadata": {
    "collapsed": false
   },
   "outputs": [
    {
     "name": "stdout",
     "output_type": "stream",
     "text": [
      "Category:  0 \n",
      " From dict:  violence against civilians \n",
      " From original column:  Violence against civilians\n"
     ]
    }
   ],
   "source": [
    "print(\n",
    "    'Category: ',\n",
    "    df_f['event_cat'][0],'\\n',\n",
    "    'From dict: ', event_type_dict[df_f['event_cat'][0]],'\\n',\n",
    "    'From original column: ', df_f['event_type'][0])"
   ]
  },
  {
   "cell_type": "markdown",
   "metadata": {},
   "source": [
    "As an example, let's extract all 'Riots/Protests':"
   ]
  },
  {
   "cell_type": "code",
   "execution_count": 12,
   "metadata": {
    "collapsed": false
   },
   "outputs": [
    {
     "name": "stdout",
     "output_type": "stream",
     "text": [
      "   event_date       country      event_type  fatalities  event_cat\n",
      "2  2017-02-18   Ivory Coast  Riots/Protests           0          2\n",
      "6  2017-02-18       Algeria  Riots/Protests           0          2\n",
      "8  2017-02-18  South Africa  Riots/Protests           0          2\n",
      "11 2017-02-18          Mali  Riots/Protests           0          2\n",
      "15 2017-02-17       Nigeria  Riots/Protests           0          2\n"
     ]
    }
   ],
   "source": [
    "df_riot = df_f[df_f.loc[:, 'event_cat']==2].copy()\n",
    "print(df_riot.head(5))"
   ]
  },
  {
   "cell_type": "markdown",
   "metadata": {},
   "source": [
    "The above could just as well have been done with:\n",
    "\n",
    "    df_riot = df_f[df_f.loc[:, 'event_cat']=='Riots/Protests'].copy()\n",
    "\n",
    "However, the one-hot encoding is better with the numeric categories (using **pd.get_dummies()**):"
   ]
  },
  {
   "cell_type": "markdown",
   "metadata": {},
   "source": [
    "### One-hot encoding applied:"
   ]
  },
  {
   "cell_type": "code",
   "execution_count": 13,
   "metadata": {
    "collapsed": false,
    "deletable": true,
    "editable": true
   },
   "outputs": [
    {
     "data": {
      "text/html": [
       "<div>\n",
       "<table border=\"1\" class=\"dataframe\">\n",
       "  <thead>\n",
       "    <tr style=\"text-align: right;\">\n",
       "      <th></th>\n",
       "      <th>event_date</th>\n",
       "      <th>country</th>\n",
       "      <th>event_type</th>\n",
       "      <th>fatalities</th>\n",
       "      <th>event_cat_1</th>\n",
       "      <th>event_cat_2</th>\n",
       "      <th>event_cat_3</th>\n",
       "      <th>event_cat_4</th>\n",
       "      <th>event_cat_5</th>\n",
       "      <th>event_cat_6</th>\n",
       "      <th>event_cat_7</th>\n",
       "      <th>event_cat_8</th>\n",
       "    </tr>\n",
       "  </thead>\n",
       "  <tbody>\n",
       "    <tr>\n",
       "      <th>0</th>\n",
       "      <td>2017-02-18</td>\n",
       "      <td>Somalia</td>\n",
       "      <td>Violence against civilians</td>\n",
       "      <td>1</td>\n",
       "      <td>0</td>\n",
       "      <td>0</td>\n",
       "      <td>0</td>\n",
       "      <td>0</td>\n",
       "      <td>0</td>\n",
       "      <td>0</td>\n",
       "      <td>0</td>\n",
       "      <td>0</td>\n",
       "    </tr>\n",
       "    <tr>\n",
       "      <th>1</th>\n",
       "      <td>2017-02-18</td>\n",
       "      <td>Libya</td>\n",
       "      <td>Battle-No change of territory</td>\n",
       "      <td>1</td>\n",
       "      <td>1</td>\n",
       "      <td>0</td>\n",
       "      <td>0</td>\n",
       "      <td>0</td>\n",
       "      <td>0</td>\n",
       "      <td>0</td>\n",
       "      <td>0</td>\n",
       "      <td>0</td>\n",
       "    </tr>\n",
       "    <tr>\n",
       "      <th>2</th>\n",
       "      <td>2017-02-18</td>\n",
       "      <td>Ivory Coast</td>\n",
       "      <td>Riots/Protests</td>\n",
       "      <td>0</td>\n",
       "      <td>0</td>\n",
       "      <td>1</td>\n",
       "      <td>0</td>\n",
       "      <td>0</td>\n",
       "      <td>0</td>\n",
       "      <td>0</td>\n",
       "      <td>0</td>\n",
       "      <td>0</td>\n",
       "    </tr>\n",
       "    <tr>\n",
       "      <th>3</th>\n",
       "      <td>2017-02-18</td>\n",
       "      <td>Ethiopia</td>\n",
       "      <td>Violence against civilians</td>\n",
       "      <td>1</td>\n",
       "      <td>0</td>\n",
       "      <td>0</td>\n",
       "      <td>0</td>\n",
       "      <td>0</td>\n",
       "      <td>0</td>\n",
       "      <td>0</td>\n",
       "      <td>0</td>\n",
       "      <td>0</td>\n",
       "    </tr>\n",
       "    <tr>\n",
       "      <th>4</th>\n",
       "      <td>2017-02-18</td>\n",
       "      <td>Somalia</td>\n",
       "      <td>Battle-No change of territory</td>\n",
       "      <td>1</td>\n",
       "      <td>1</td>\n",
       "      <td>0</td>\n",
       "      <td>0</td>\n",
       "      <td>0</td>\n",
       "      <td>0</td>\n",
       "      <td>0</td>\n",
       "      <td>0</td>\n",
       "      <td>0</td>\n",
       "    </tr>\n",
       "  </tbody>\n",
       "</table>\n",
       "</div>"
      ],
      "text/plain": [
       "  event_date      country                     event_type  fatalities  \\\n",
       "0 2017-02-18      Somalia     Violence against civilians           1   \n",
       "1 2017-02-18        Libya  Battle-No change of territory           1   \n",
       "2 2017-02-18  Ivory Coast                 Riots/Protests           0   \n",
       "3 2017-02-18     Ethiopia     Violence against civilians           1   \n",
       "4 2017-02-18      Somalia  Battle-No change of territory           1   \n",
       "\n",
       "   event_cat_1  event_cat_2  event_cat_3  event_cat_4  event_cat_5  \\\n",
       "0            0            0            0            0            0   \n",
       "1            1            0            0            0            0   \n",
       "2            0            1            0            0            0   \n",
       "3            0            0            0            0            0   \n",
       "4            1            0            0            0            0   \n",
       "\n",
       "   event_cat_6  event_cat_7  event_cat_8  \n",
       "0            0            0            0  \n",
       "1            0            0            0  \n",
       "2            0            0            0  \n",
       "3            0            0            0  \n",
       "4            0            0            0  "
      ]
     },
     "execution_count": 13,
     "metadata": {},
     "output_type": "execute_result"
    }
   ],
   "source": [
    "pd.get_dummies(df_f, columns=['event_cat'], drop_first=True).head(5)"
   ]
  }
 ],
 "metadata": {
  "kernelspec": {
   "display_name": "Python 3",
   "language": "python",
   "name": "python3"
  },
  "language_info": {
   "codemirror_mode": {
    "name": "ipython",
    "version": 3
   },
   "file_extension": ".py",
   "mimetype": "text/x-python",
   "name": "python",
   "nbconvert_exporter": "python",
   "pygments_lexer": "ipython3",
   "version": "3.6.0"
  }
 },
 "nbformat": 4,
 "nbformat_minor": 2
}
