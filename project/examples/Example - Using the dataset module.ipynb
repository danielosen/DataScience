{
 "cells": [
  {
   "cell_type": "markdown",
   "metadata": {
    "deletable": true,
    "editable": true
   },
   "source": [
    "# Using the datasets module\n",
    "This notebook must be executed inside the examples/ directory."
   ]
  },
  {
   "cell_type": "code",
   "execution_count": 1,
   "metadata": {
    "collapsed": false,
    "deletable": true,
    "editable": true
   },
   "outputs": [],
   "source": [
    "import os\n",
    "assert (os.getcwd().endswith('examples')), '%s\\n%s \"%s\"' % (\n",
    "    'Notebook must be executed inside examples directory\\n', \n",
    "    'Current directory is', os.getcwd())"
   ]
  },
  {
   "cell_type": "code",
   "execution_count": 2,
   "metadata": {
    "collapsed": false,
    "deletable": true,
    "editable": true
   },
   "outputs": [],
   "source": [
    "# fix import paths \n",
    "import sys\n",
    "sys.path.insert(0, '../')"
   ]
  },
  {
   "cell_type": "code",
   "execution_count": 3,
   "metadata": {
    "collapsed": true,
    "deletable": true,
    "editable": true
   },
   "outputs": [],
   "source": [
    "# fix data directory path in datasets module\n",
    "import modules.datasets as datasets\n",
    "datasets.DATADIR = '../' + datasets.DATADIR  "
   ]
  },
  {
   "cell_type": "markdown",
   "metadata": {
    "deletable": true,
    "editable": true
   },
   "source": [
    "# The ACLED class"
   ]
  },
  {
   "cell_type": "code",
   "execution_count": 4,
   "metadata": {
    "collapsed": true,
    "deletable": true,
    "editable": true
   },
   "outputs": [],
   "source": [
    "acled = datasets.ACLED()"
   ]
  },
  {
   "cell_type": "code",
   "execution_count": 5,
   "metadata": {
    "collapsed": false,
    "deletable": true,
    "editable": true
   },
   "outputs": [
    {
     "data": {
      "text/plain": [
       "modules.datasets.ACLED"
      ]
     },
     "execution_count": 5,
     "metadata": {},
     "output_type": "execute_result"
    }
   ],
   "source": [
    "type(acled)"
   ]
  },
  {
   "cell_type": "code",
   "execution_count": 6,
   "metadata": {
    "collapsed": false,
    "deletable": true,
    "editable": true
   },
   "outputs": [],
   "source": [
    "## delete some data from mongodb to test database update below\n",
    "#import datetime\n",
    "#starttime = datetime.datetime(2017,3,1)  # March 1st, 2017\n",
    "#acled.mongodb_delete_many(del_filter={'event_date': {'$gt':starttime}})"
   ]
  },
  {
   "cell_type": "markdown",
   "metadata": {
    "deletable": true,
    "editable": true
   },
   "source": [
    "### Download new data from ACLED server (or everything if database does not exist)"
   ]
  },
  {
   "cell_type": "code",
   "execution_count": 7,
   "metadata": {
    "collapsed": false,
    "deletable": true,
    "editable": true
   },
   "outputs": [
    {
     "name": "stdout",
     "output_type": "stream",
     "text": [
      "2017-03-25 12:07:49.142884 Querying ACLED API (one dot is 500 rows) ...\n",
      "2017-03-25 12:07:59.398884 2 pages retrieved from ACLED API.\n",
      "2017-03-25 12:07:59.399119 Make DataFrame...\n",
      "2017-03-25 12:07:59.405115 Apply str->datetime on event_date...\n",
      "595 records inserted to mongodb, 606 lines in csv. (Why a difference?)\n"
     ]
    }
   ],
   "source": [
    "acled.mongodb_update_database()"
   ]
  },
  {
   "cell_type": "markdown",
   "metadata": {
    "deletable": true,
    "editable": true
   },
   "source": [
    "### Getting the enitre ACLED database as a pandas.DataFrame"
   ]
  },
  {
   "cell_type": "code",
   "execution_count": 8,
   "metadata": {
    "collapsed": true,
    "deletable": true,
    "editable": true
   },
   "outputs": [],
   "source": [
    "import pandas as pd"
   ]
  },
  {
   "cell_type": "code",
   "execution_count": 9,
   "metadata": {
    "collapsed": false,
    "deletable": true,
    "editable": true
   },
   "outputs": [],
   "source": [
    "df = acled.mongodb_get_entire_database()"
   ]
  },
  {
   "cell_type": "code",
   "execution_count": 10,
   "metadata": {
    "collapsed": false,
    "deletable": true,
    "editable": true
   },
   "outputs": [
    {
     "data": {
      "text/plain": [
       "Index(['_id', 'actor1', 'actor2', 'admin1', 'admin2', 'admin3', 'ally_actor_1',\n",
       "       'ally_actor_2', 'country', 'data_id', 'event_date', 'event_id_cnty',\n",
       "       'event_id_no_cnty', 'event_type', 'fatalities', 'geo_precision', 'gwno',\n",
       "       'inter1', 'inter2', 'interaction', 'latitude', 'location', 'longitude',\n",
       "       'notes', 'source', 'time_precision', 'year'],\n",
       "      dtype='object')"
      ]
     },
     "execution_count": 10,
     "metadata": {},
     "output_type": "execute_result"
    }
   ],
   "source": [
    "df.columns"
   ]
  },
  {
   "cell_type": "code",
   "execution_count": 11,
   "metadata": {
    "collapsed": false,
    "deletable": true,
    "editable": true
   },
   "outputs": [
    {
     "data": {
      "text/html": [
       "<div>\n",
       "<table border=\"1\" class=\"dataframe\">\n",
       "  <thead>\n",
       "    <tr style=\"text-align: right;\">\n",
       "      <th></th>\n",
       "      <th>_id</th>\n",
       "      <th>actor1</th>\n",
       "      <th>actor2</th>\n",
       "      <th>admin1</th>\n",
       "      <th>admin2</th>\n",
       "      <th>admin3</th>\n",
       "      <th>ally_actor_1</th>\n",
       "      <th>ally_actor_2</th>\n",
       "      <th>country</th>\n",
       "      <th>data_id</th>\n",
       "      <th>...</th>\n",
       "      <th>inter1</th>\n",
       "      <th>inter2</th>\n",
       "      <th>interaction</th>\n",
       "      <th>latitude</th>\n",
       "      <th>location</th>\n",
       "      <th>longitude</th>\n",
       "      <th>notes</th>\n",
       "      <th>source</th>\n",
       "      <th>time_precision</th>\n",
       "      <th>year</th>\n",
       "    </tr>\n",
       "  </thead>\n",
       "  <tbody>\n",
       "    <tr>\n",
       "      <th>0</th>\n",
       "      <td>58d64e80b2c79a33ea6ad1ad</td>\n",
       "      <td>Protesters (Liberia)</td>\n",
       "      <td></td>\n",
       "      <td>Montserrado</td>\n",
       "      <td>Greater Monrovia</td>\n",
       "      <td>Monrovia</td>\n",
       "      <td>PATEL: Patriotic Entrepreneurs of Liberia</td>\n",
       "      <td></td>\n",
       "      <td>Liberia</td>\n",
       "      <td>142291</td>\n",
       "      <td>...</td>\n",
       "      <td>6</td>\n",
       "      <td>0</td>\n",
       "      <td>60</td>\n",
       "      <td>6.31000</td>\n",
       "      <td>Monrovia</td>\n",
       "      <td>-10.8000</td>\n",
       "      <td>Marketers and local business owners led by the...</td>\n",
       "      <td>Liberian Observer (Monrovia); FrontPageAfrica ...</td>\n",
       "      <td>1</td>\n",
       "      <td>2017</td>\n",
       "    </tr>\n",
       "    <tr>\n",
       "      <th>1</th>\n",
       "      <td>58d64e80b2c79a33ea6ad1af</td>\n",
       "      <td>Police Forces of Ethiopia (1991-) Liyu Division</td>\n",
       "      <td>Police Forces of Ethiopia (1991-)</td>\n",
       "      <td>Oromia</td>\n",
       "      <td>Mirab Hararghe</td>\n",
       "      <td>Boke</td>\n",
       "      <td></td>\n",
       "      <td>Oromo Ethnic Group (Ethiopia)</td>\n",
       "      <td>Ethiopia</td>\n",
       "      <td>142060</td>\n",
       "      <td>...</td>\n",
       "      <td>1</td>\n",
       "      <td>1</td>\n",
       "      <td>11</td>\n",
       "      <td>8.59288</td>\n",
       "      <td>Nure Musa</td>\n",
       "      <td>41.0770</td>\n",
       "      <td>Clashes yesterday between Liyu Police and Orom...</td>\n",
       "      <td>Oromiya Media Network</td>\n",
       "      <td>1</td>\n",
       "      <td>2017</td>\n",
       "    </tr>\n",
       "    <tr>\n",
       "      <th>2</th>\n",
       "      <td>58d64e80b2c79a33ea6ad1b0</td>\n",
       "      <td>Protesters (Egypt)</td>\n",
       "      <td></td>\n",
       "      <td>Beni Suef</td>\n",
       "      <td>Bani Swayf</td>\n",
       "      <td></td>\n",
       "      <td></td>\n",
       "      <td></td>\n",
       "      <td>Egypt</td>\n",
       "      <td>141960</td>\n",
       "      <td>...</td>\n",
       "      <td>6</td>\n",
       "      <td>0</td>\n",
       "      <td>60</td>\n",
       "      <td>29.07440</td>\n",
       "      <td>Bani Suwayf</td>\n",
       "      <td>31.0979</td>\n",
       "      <td>Workers at  Beni Suef \"Titan\" Cement factory i...</td>\n",
       "      <td>Arab Trade Union Federation</td>\n",
       "      <td>1</td>\n",
       "      <td>2017</td>\n",
       "    </tr>\n",
       "    <tr>\n",
       "      <th>3</th>\n",
       "      <td>58d64e80b2c79a33ea6ad1b1</td>\n",
       "      <td>Rioters (Democratic Republic of Congo)</td>\n",
       "      <td>Police Forces of Democratic Republic of Congo ...</td>\n",
       "      <td>Kinshasa</td>\n",
       "      <td>Kinshasa</td>\n",
       "      <td>Mont Ngafula</td>\n",
       "      <td>UDPS: Union for Democracy and Social Progress</td>\n",
       "      <td></td>\n",
       "      <td>Democratic Republic of Congo</td>\n",
       "      <td>141814</td>\n",
       "      <td>...</td>\n",
       "      <td>5</td>\n",
       "      <td>1</td>\n",
       "      <td>15</td>\n",
       "      <td>-4.46417</td>\n",
       "      <td>Limete Njili</td>\n",
       "      <td>15.3489</td>\n",
       "      <td>Clashes were reported for a second day between...</td>\n",
       "      <td>Radio Okapi</td>\n",
       "      <td>1</td>\n",
       "      <td>2017</td>\n",
       "    </tr>\n",
       "    <tr>\n",
       "      <th>4</th>\n",
       "      <td>58d64e80b2c79a33ea6ad1b2</td>\n",
       "      <td>Police Forces of Democratic Republic of Congo ...</td>\n",
       "      <td>BDK: Bunda Dia Kongo</td>\n",
       "      <td>Bas-Congo</td>\n",
       "      <td>Cataractes</td>\n",
       "      <td>Songololo</td>\n",
       "      <td></td>\n",
       "      <td></td>\n",
       "      <td>Democratic Republic of Congo</td>\n",
       "      <td>141813</td>\n",
       "      <td>...</td>\n",
       "      <td>1</td>\n",
       "      <td>3</td>\n",
       "      <td>13</td>\n",
       "      <td>-5.55000</td>\n",
       "      <td>Kimpese</td>\n",
       "      <td>14.4333</td>\n",
       "      <td>A BDK follower was killed in a clash with poli...</td>\n",
       "      <td>RFI</td>\n",
       "      <td>1</td>\n",
       "      <td>2017</td>\n",
       "    </tr>\n",
       "  </tbody>\n",
       "</table>\n",
       "<p>5 rows × 27 columns</p>\n",
       "</div>"
      ],
      "text/plain": [
       "                        _id  \\\n",
       "0  58d64e80b2c79a33ea6ad1ad   \n",
       "1  58d64e80b2c79a33ea6ad1af   \n",
       "2  58d64e80b2c79a33ea6ad1b0   \n",
       "3  58d64e80b2c79a33ea6ad1b1   \n",
       "4  58d64e80b2c79a33ea6ad1b2   \n",
       "\n",
       "                                              actor1  \\\n",
       "0                               Protesters (Liberia)   \n",
       "1    Police Forces of Ethiopia (1991-) Liyu Division   \n",
       "2                                 Protesters (Egypt)   \n",
       "3             Rioters (Democratic Republic of Congo)   \n",
       "4  Police Forces of Democratic Republic of Congo ...   \n",
       "\n",
       "                                              actor2       admin1  \\\n",
       "0                                                     Montserrado   \n",
       "1                  Police Forces of Ethiopia (1991-)       Oromia   \n",
       "2                                                       Beni Suef   \n",
       "3  Police Forces of Democratic Republic of Congo ...     Kinshasa   \n",
       "4                               BDK: Bunda Dia Kongo    Bas-Congo   \n",
       "\n",
       "             admin2        admin3  \\\n",
       "0  Greater Monrovia      Monrovia   \n",
       "1    Mirab Hararghe          Boke   \n",
       "2        Bani Swayf                 \n",
       "3          Kinshasa  Mont Ngafula   \n",
       "4        Cataractes     Songololo   \n",
       "\n",
       "                                    ally_actor_1  \\\n",
       "0      PATEL: Patriotic Entrepreneurs of Liberia   \n",
       "1                                                  \n",
       "2                                                  \n",
       "3  UDPS: Union for Democracy and Social Progress   \n",
       "4                                                  \n",
       "\n",
       "                    ally_actor_2                       country  data_id  ...   \\\n",
       "0                                                      Liberia   142291  ...    \n",
       "1  Oromo Ethnic Group (Ethiopia)                      Ethiopia   142060  ...    \n",
       "2                                                        Egypt   141960  ...    \n",
       "3                                 Democratic Republic of Congo   141814  ...    \n",
       "4                                 Democratic Republic of Congo   141813  ...    \n",
       "\n",
       "  inter1 inter2 interaction  latitude      location  longitude  \\\n",
       "0      6      0          60   6.31000      Monrovia   -10.8000   \n",
       "1      1      1          11   8.59288     Nure Musa    41.0770   \n",
       "2      6      0          60  29.07440   Bani Suwayf    31.0979   \n",
       "3      5      1          15  -4.46417  Limete Njili    15.3489   \n",
       "4      1      3          13  -5.55000       Kimpese    14.4333   \n",
       "\n",
       "                                               notes  \\\n",
       "0  Marketers and local business owners led by the...   \n",
       "1  Clashes yesterday between Liyu Police and Orom...   \n",
       "2  Workers at  Beni Suef \"Titan\" Cement factory i...   \n",
       "3  Clashes were reported for a second day between...   \n",
       "4  A BDK follower was killed in a clash with poli...   \n",
       "\n",
       "                                              source  time_precision  year  \n",
       "0  Liberian Observer (Monrovia); FrontPageAfrica ...               1  2017  \n",
       "1                              Oromiya Media Network               1  2017  \n",
       "2                        Arab Trade Union Federation               1  2017  \n",
       "3                                        Radio Okapi               1  2017  \n",
       "4                                                RFI               1  2017  \n",
       "\n",
       "[5 rows x 27 columns]"
      ]
     },
     "execution_count": 11,
     "metadata": {},
     "output_type": "execute_result"
    }
   ],
   "source": [
    "df.head()"
   ]
  },
  {
   "cell_type": "markdown",
   "metadata": {
    "deletable": true,
    "editable": true
   },
   "source": [
    "### List unique countries"
   ]
  },
  {
   "cell_type": "code",
   "execution_count": 12,
   "metadata": {
    "collapsed": false,
    "deletable": true,
    "editable": true
   },
   "outputs": [
    {
     "data": {
      "text/plain": [
       "array(['Liberia', 'Ethiopia', 'Egypt', 'Democratic Republic of Congo',\n",
       "       'Central African Republic', 'Cameroon', 'Burundi', 'Burkina Faso',\n",
       "       'Algeria', 'Tunisia', 'Sudan', 'South Africa', 'Somalia',\n",
       "       'Sierra Leone', 'Nigeria', 'Mali', 'Madagascar', 'Libya', 'Guinea',\n",
       "       'South Sudan', 'Senegal', 'Niger', 'Mauritania', 'Kenya',\n",
       "       'Mozambique', 'Ivory Coast', 'Ghana', 'Zimbabwe',\n",
       "       'Republic of Congo', 'Angola', 'Morocco', 'Malawi', 'Chad',\n",
       "       'Zambia', 'Uganda', 'Benin', 'Tanzania', 'Gambia', 'Gabon',\n",
       "       'Namibia', 'Togo', 'Guinea-Bissau', 'Mozambique ', 'Botswana',\n",
       "       'Djibouti', 'Swaziland', 'Lesotho', 'Eritrea', 'Rwanda',\n",
       "       'Equatorial Guinea'], dtype=object)"
      ]
     },
     "execution_count": 12,
     "metadata": {},
     "output_type": "execute_result"
    }
   ],
   "source": [
    "df['country'].unique()"
   ]
  },
  {
   "cell_type": "markdown",
   "metadata": {
    "deletable": true,
    "editable": true
   },
   "source": [
    "### Fetch data for Somalia"
   ]
  },
  {
   "cell_type": "code",
   "execution_count": 13,
   "metadata": {
    "collapsed": false,
    "deletable": true,
    "editable": true
   },
   "outputs": [],
   "source": [
    "df_somalia = df[df['country'] == 'Somalia']"
   ]
  },
  {
   "cell_type": "code",
   "execution_count": 14,
   "metadata": {
    "collapsed": false,
    "deletable": true,
    "editable": true
   },
   "outputs": [
    {
     "data": {
      "text/plain": [
       "array(['Somalia'], dtype=object)"
      ]
     },
     "execution_count": 14,
     "metadata": {},
     "output_type": "execute_result"
    }
   ],
   "source": [
    "df_somalia['country'].unique()"
   ]
  },
  {
   "cell_type": "markdown",
   "metadata": {
    "deletable": true,
    "editable": true
   },
   "source": [
    "### Data newer than 2017-01-31"
   ]
  },
  {
   "cell_type": "code",
   "execution_count": 15,
   "metadata": {
    "collapsed": false,
    "deletable": true,
    "editable": true
   },
   "outputs": [],
   "source": [
    "import datetime"
   ]
  },
  {
   "cell_type": "code",
   "execution_count": 16,
   "metadata": {
    "collapsed": false,
    "deletable": true,
    "editable": true
   },
   "outputs": [],
   "source": [
    "starttime = datetime.datetime(2017, 1, 31)\n",
    "df_somalia_feb = df[df['event_date'] >= starttime]"
   ]
  },
  {
   "cell_type": "markdown",
   "metadata": {
    "deletable": true,
    "editable": true
   },
   "source": [
    "### Top ten fatalities"
   ]
  },
  {
   "cell_type": "code",
   "execution_count": 17,
   "metadata": {
    "collapsed": false,
    "deletable": true,
    "editable": true
   },
   "outputs": [
    {
     "data": {
      "text/html": [
       "<div>\n",
       "<table border=\"1\" class=\"dataframe\">\n",
       "  <thead>\n",
       "    <tr style=\"text-align: right;\">\n",
       "      <th></th>\n",
       "      <th>event_date</th>\n",
       "      <th>location</th>\n",
       "      <th>fatalities</th>\n",
       "      <th>interaction</th>\n",
       "      <th>event_type</th>\n",
       "    </tr>\n",
       "  </thead>\n",
       "  <tbody>\n",
       "    <tr>\n",
       "      <th>522</th>\n",
       "      <td>2017-02-08</td>\n",
       "      <td>Owachi</td>\n",
       "      <td>98</td>\n",
       "      <td>12</td>\n",
       "      <td>Battle-No change of territory</td>\n",
       "    </tr>\n",
       "    <tr>\n",
       "      <th>156492</th>\n",
       "      <td>2017-03-04</td>\n",
       "      <td>Torit</td>\n",
       "      <td>77</td>\n",
       "      <td>23</td>\n",
       "      <td>Battle-No change of territory</td>\n",
       "    </tr>\n",
       "    <tr>\n",
       "      <th>2565</th>\n",
       "      <td>2017-03-02</td>\n",
       "      <td>Afmadow</td>\n",
       "      <td>57</td>\n",
       "      <td>28</td>\n",
       "      <td>Battle-No change of territory</td>\n",
       "    </tr>\n",
       "    <tr>\n",
       "      <th>2525</th>\n",
       "      <td>2017-02-15</td>\n",
       "      <td>Mokolo</td>\n",
       "      <td>56</td>\n",
       "      <td>12</td>\n",
       "      <td>Battle-No change of territory</td>\n",
       "    </tr>\n",
       "    <tr>\n",
       "      <th>155993</th>\n",
       "      <td>2017-02-25</td>\n",
       "      <td>Yuai</td>\n",
       "      <td>53</td>\n",
       "      <td>12</td>\n",
       "      <td>Battle-No change of territory</td>\n",
       "    </tr>\n",
       "    <tr>\n",
       "      <th>155999</th>\n",
       "      <td>2017-03-18</td>\n",
       "      <td>Ganfouda</td>\n",
       "      <td>48</td>\n",
       "      <td>13</td>\n",
       "      <td>Battle-Government regains territory</td>\n",
       "    </tr>\n",
       "    <tr>\n",
       "      <th>2290</th>\n",
       "      <td>2017-02-23</td>\n",
       "      <td>Ganfouda</td>\n",
       "      <td>44</td>\n",
       "      <td>13</td>\n",
       "      <td>Strategic development</td>\n",
       "    </tr>\n",
       "    <tr>\n",
       "      <th>2459</th>\n",
       "      <td>2017-02-19</td>\n",
       "      <td>Medina</td>\n",
       "      <td>40</td>\n",
       "      <td>27</td>\n",
       "      <td>Violence against civilians</td>\n",
       "    </tr>\n",
       "    <tr>\n",
       "      <th>447</th>\n",
       "      <td>2017-02-10</td>\n",
       "      <td>Dikwa</td>\n",
       "      <td>37</td>\n",
       "      <td>12</td>\n",
       "      <td>Battle-No change of territory</td>\n",
       "    </tr>\n",
       "    <tr>\n",
       "      <th>156317</th>\n",
       "      <td>2017-03-08</td>\n",
       "      <td>Khor Adar</td>\n",
       "      <td>33</td>\n",
       "      <td>12</td>\n",
       "      <td>Battle-No change of territory</td>\n",
       "    </tr>\n",
       "  </tbody>\n",
       "</table>\n",
       "</div>"
      ],
      "text/plain": [
       "       event_date   location  fatalities  interaction  \\\n",
       "522    2017-02-08     Owachi          98           12   \n",
       "156492 2017-03-04      Torit          77           23   \n",
       "2565   2017-03-02    Afmadow          57           28   \n",
       "2525   2017-02-15     Mokolo          56           12   \n",
       "155993 2017-02-25       Yuai          53           12   \n",
       "155999 2017-03-18   Ganfouda          48           13   \n",
       "2290   2017-02-23   Ganfouda          44           13   \n",
       "2459   2017-02-19     Medina          40           27   \n",
       "447    2017-02-10      Dikwa          37           12   \n",
       "156317 2017-03-08  Khor Adar          33           12   \n",
       "\n",
       "                                 event_type  \n",
       "522           Battle-No change of territory  \n",
       "156492        Battle-No change of territory  \n",
       "2565          Battle-No change of territory  \n",
       "2525          Battle-No change of territory  \n",
       "155993        Battle-No change of territory  \n",
       "155999  Battle-Government regains territory  \n",
       "2290                  Strategic development  \n",
       "2459             Violence against civilians  \n",
       "447           Battle-No change of territory  \n",
       "156317        Battle-No change of territory  "
      ]
     },
     "execution_count": 17,
     "metadata": {},
     "output_type": "execute_result"
    }
   ],
   "source": [
    "df_somalia_feb[['event_date','location','fatalities','interaction','event_type']].sort_values(['fatalities'],ascending=False)[:10]"
   ]
  },
  {
   "cell_type": "code",
   "execution_count": 18,
   "metadata": {
    "collapsed": false,
    "deletable": true,
    "editable": true
   },
   "outputs": [
    {
     "data": {
      "text/plain": [
       "Index(['_id', 'actor1', 'actor2', 'admin1', 'admin2', 'admin3', 'ally_actor_1',\n",
       "       'ally_actor_2', 'country', 'data_id', 'event_date', 'event_id_cnty',\n",
       "       'event_id_no_cnty', 'event_type', 'fatalities', 'geo_precision', 'gwno',\n",
       "       'inter1', 'inter2', 'interaction', 'latitude', 'location', 'longitude',\n",
       "       'notes', 'source', 'time_precision', 'year'],\n",
       "      dtype='object')"
      ]
     },
     "execution_count": 18,
     "metadata": {},
     "output_type": "execute_result"
    }
   ],
   "source": [
    "df.columns"
   ]
  },
  {
   "cell_type": "markdown",
   "metadata": {
    "collapsed": true,
    "deletable": true,
    "editable": true
   },
   "source": [
    "# The Gapminder class\n",
    "Data from www.gapminder.org"
   ]
  },
  {
   "cell_type": "code",
   "execution_count": 19,
   "metadata": {
    "collapsed": false,
    "deletable": true,
    "editable": true
   },
   "outputs": [],
   "source": [
    "gm = datasets.Gapminder()"
   ]
  },
  {
   "cell_type": "code",
   "execution_count": 20,
   "metadata": {
    "collapsed": false,
    "deletable": true,
    "editable": true
   },
   "outputs": [
    {
     "data": {
      "text/plain": [
       "dict_keys(['Urban population growth (annual %)', 'Aid received (% of GNI)', 'Body Mass Index (BMI), women, Kg/m2', 'Medical Doctors (per 1,000 people)', 'Age 15-24 unemployment rate', 'Cell phones (per 100 people)', 'Births attended by skilled health staff (% of total)', 'Crude death rate (deaths per 1,000 population)', 'Body Mass Index (BMI), men, Kg/m2'])"
      ]
     },
     "execution_count": 20,
     "metadata": {},
     "output_type": "execute_result"
    }
   ],
   "source": [
    "gm.get_dataset_names()"
   ]
  },
  {
   "cell_type": "code",
   "execution_count": 21,
   "metadata": {
    "collapsed": false,
    "deletable": true,
    "editable": true
   },
   "outputs": [
    {
     "name": "stdout",
     "output_type": "stream",
     "text": [
      "Downloaded: \"../data/gapminder/Body Mass Index (BMI), men, Kg_m2.xlsx\"\n",
      "URL: http://spreadsheets.google.com/pub?key=0ArfEDsV3bBwCdF9saE1pWUNYVkVsNU1FdW1Yem81Nmc&output=xls\n"
     ]
    }
   ],
   "source": [
    "df_bmi = gm.get_dataset('Body Mass Index (BMI), men, Kg/m2')"
   ]
  },
  {
   "cell_type": "code",
   "execution_count": 22,
   "metadata": {
    "collapsed": false,
    "deletable": true,
    "editable": true
   },
   "outputs": [
    {
     "data": {
      "text/plain": [
       "Index(['Country',      1980,      1981,      1982,      1983,      1984,\n",
       "            1985,      1986,      1987,      1988,      1989,      1990,\n",
       "            1991,      1992,      1993,      1994,      1995,      1996,\n",
       "            1997,      1998,      1999,      2000,      2001,      2002,\n",
       "            2003,      2004,      2005,      2006,      2007,      2008],\n",
       "      dtype='object')"
      ]
     },
     "execution_count": 22,
     "metadata": {},
     "output_type": "execute_result"
    }
   ],
   "source": [
    "df_bmi.columns"
   ]
  },
  {
   "cell_type": "code",
   "execution_count": 23,
   "metadata": {
    "collapsed": false,
    "deletable": true,
    "editable": true
   },
   "outputs": [
    {
     "data": {
      "text/plain": [
       "array(['Afghanistan', 'Albania', 'Algeria', 'Andorra', 'Angola',\n",
       "       'Antigua and Barbuda', 'Argentina', 'Armenia', 'Australia',\n",
       "       'Austria', 'Azerbaijan', 'Bahamas', 'Bahrain', 'Bangladesh',\n",
       "       'Barbados', 'Belarus', 'Belgium', 'Belize', 'Benin', 'Bermuda',\n",
       "       'Bhutan', 'Bolivia', 'Bosnia and Herzegovina', 'Botswana', 'Brazil',\n",
       "       'British Virgin Islands', 'Brunei', 'Bulgaria', 'Burkina Faso',\n",
       "       'Burundi', 'Cambodia', 'Cameroon', 'Canada', 'Cape Verde',\n",
       "       'Central African Rep.', 'Chad', 'Chile', 'China', 'Colombia',\n",
       "       'Comoros', 'Congo, Dem. Rep.', 'Congo, Rep.', 'Cook Islands',\n",
       "       'Costa Rica', \"Cote d'Ivoire\", 'Croatia', 'Cuba', 'Cyprus',\n",
       "       'Czech Rep.', 'Denmark', 'Djibouti', 'Dominica', 'Dominican Rep.',\n",
       "       'Ecuador', 'Egypt', 'El Salvador', 'Equatorial Guinea', 'Eritrea',\n",
       "       'Estonia', 'Ethiopia', 'Fiji', 'Finland', 'France',\n",
       "       'French Polynesia', 'Gabon', 'Gambia', 'Georgia', 'Germany',\n",
       "       'Ghana', 'Greece', 'Greenland', 'Grenada', 'Guatemala', 'Guinea',\n",
       "       'Guinea-Bissau', 'Guyana', 'Haiti', 'Honduras', 'Hong Kong, China',\n",
       "       'Hungary', 'Iceland', 'India', 'Indonesia', 'Iran', 'Iraq',\n",
       "       'Ireland', 'Israel', 'Italy', 'Jamaica', 'Japan', 'Jordan',\n",
       "       'Kazakhstan', 'Kenya', 'Kiribati', 'Korea, Dem. Rep.',\n",
       "       'Korea, Rep.', 'Kuwait', 'Kyrgyzstan', 'Laos', 'Latvia', 'Lebanon',\n",
       "       'Lesotho', 'Liberia', 'Libya', 'Lithuania', 'Luxembourg',\n",
       "       'Macao, China', 'Macedonia, FYR', 'Madagascar', 'Malawi',\n",
       "       'Malaysia', 'Maldives', 'Mali', 'Malta', 'Marshall Islands',\n",
       "       'Mauritania', 'Mauritius', 'Mexico', 'Micronesia, Fed. Sts.',\n",
       "       'Moldova', 'Mongolia', 'Montenegro', 'Morocco', 'Mozambique',\n",
       "       'Myanmar', 'Namibia', 'Nauru', 'Nepal', 'Netherlands',\n",
       "       'Netherlands Antilles', 'New Zealand', 'Nicaragua', 'Niger',\n",
       "       'Nigeria', 'Norway', 'Oman', 'Pakistan', 'Palau', 'Panama',\n",
       "       'Papua New Guinea', 'Paraguay', 'Peru', 'Philippines', 'Poland',\n",
       "       'Portugal', 'Puerto Rico', 'Qatar', 'Romania', 'Russia', 'Rwanda',\n",
       "       'Saint Kitts and Nevis', 'Saint Lucia',\n",
       "       'Saint Vincent and the Grenadines', 'Samoa',\n",
       "       'Sao Tome and Principe', 'Saudi Arabia', 'Senegal', 'Serbia',\n",
       "       'Seychelles', 'Sierra Leone', 'Singapore', 'Slovak Republic',\n",
       "       'Slovenia', 'Solomon Islands', 'Somalia', 'South Africa', 'Spain',\n",
       "       'Sri Lanka', 'Sudan', 'Suriname', 'Swaziland', 'Sweden',\n",
       "       'Switzerland', 'Syria', 'Taiwan', 'Tajikistan', 'Tanzania',\n",
       "       'Thailand', 'Timor-Leste', 'Togo', 'Tonga', 'Trinidad and Tobago',\n",
       "       'Tunisia', 'Turkey', 'Turkmenistan', 'Uganda', 'Ukraine',\n",
       "       'United Arab Emirates', 'United Kingdom', 'United States',\n",
       "       'Uruguay', 'Uzbekistan', 'Vanuatu', 'Venezuela', 'Vietnam',\n",
       "       'West Bank and Gaza', 'Yemen, Rep.', 'Zambia', 'Zimbabwe'], dtype=object)"
      ]
     },
     "execution_count": 23,
     "metadata": {},
     "output_type": "execute_result"
    }
   ],
   "source": [
    "df_bmi['Country'].unique()"
   ]
  },
  {
   "cell_type": "code",
   "execution_count": 24,
   "metadata": {
    "collapsed": false,
    "deletable": true,
    "editable": true
   },
   "outputs": [
    {
     "data": {
      "text/html": [
       "<div>\n",
       "<table border=\"1\" class=\"dataframe\">\n",
       "  <thead>\n",
       "    <tr style=\"text-align: right;\">\n",
       "      <th></th>\n",
       "      <th>Country</th>\n",
       "      <th>1980</th>\n",
       "      <th>1981</th>\n",
       "      <th>1982</th>\n",
       "      <th>1983</th>\n",
       "      <th>1984</th>\n",
       "      <th>1985</th>\n",
       "      <th>1986</th>\n",
       "      <th>1987</th>\n",
       "      <th>1988</th>\n",
       "      <th>...</th>\n",
       "      <th>1999</th>\n",
       "      <th>2000</th>\n",
       "      <th>2001</th>\n",
       "      <th>2002</th>\n",
       "      <th>2003</th>\n",
       "      <th>2004</th>\n",
       "      <th>2005</th>\n",
       "      <th>2006</th>\n",
       "      <th>2007</th>\n",
       "      <th>2008</th>\n",
       "    </tr>\n",
       "  </thead>\n",
       "  <tbody>\n",
       "    <tr>\n",
       "      <th>168</th>\n",
       "      <td>Sudan</td>\n",
       "      <td>20.71915</td>\n",
       "      <td>20.75761</td>\n",
       "      <td>20.79627</td>\n",
       "      <td>20.82779</td>\n",
       "      <td>20.8473</td>\n",
       "      <td>20.86213</td>\n",
       "      <td>20.8824</td>\n",
       "      <td>20.90864</td>\n",
       "      <td>20.93535</td>\n",
       "      <td>...</td>\n",
       "      <td>21.49895</td>\n",
       "      <td>21.57897</td>\n",
       "      <td>21.66078</td>\n",
       "      <td>21.75247</td>\n",
       "      <td>21.84463</td>\n",
       "      <td>21.9434</td>\n",
       "      <td>22.0473</td>\n",
       "      <td>22.16048</td>\n",
       "      <td>22.28084</td>\n",
       "      <td>22.40484</td>\n",
       "    </tr>\n",
       "  </tbody>\n",
       "</table>\n",
       "<p>1 rows × 30 columns</p>\n",
       "</div>"
      ],
      "text/plain": [
       "    Country      1980      1981      1982      1983     1984      1985  \\\n",
       "168   Sudan  20.71915  20.75761  20.79627  20.82779  20.8473  20.86213   \n",
       "\n",
       "        1986      1987      1988    ...         1999      2000      2001  \\\n",
       "168  20.8824  20.90864  20.93535    ...     21.49895  21.57897  21.66078   \n",
       "\n",
       "         2002      2003     2004     2005      2006      2007      2008  \n",
       "168  21.75247  21.84463  21.9434  22.0473  22.16048  22.28084  22.40484  \n",
       "\n",
       "[1 rows x 30 columns]"
      ]
     },
     "execution_count": 24,
     "metadata": {},
     "output_type": "execute_result"
    }
   ],
   "source": [
    "df_bmi_sudan = df_bmi[df_bmi['Country'] == 'Sudan']\n",
    "df_bmi_sudan"
   ]
  },
  {
   "cell_type": "code",
   "execution_count": 25,
   "metadata": {
    "collapsed": false,
    "deletable": true,
    "editable": true
   },
   "outputs": [
    {
     "name": "stdout",
     "output_type": "stream",
     "text": [
      "Downloaded: \"../data/gapminder/Age 15-24 unemployment rate.xlsx\"\n",
      "URL: http://spreadsheets.google.com/pub?key=rEMA-cbNPaOtpDyxTcwugnw&output=xls\n"
     ]
    }
   ],
   "source": [
    "df_unemp = gm.get_dataset('Age 15-24 unemployment rate')"
   ]
  },
  {
   "cell_type": "code",
   "execution_count": 26,
   "metadata": {
    "collapsed": false,
    "deletable": true,
    "editable": true
   },
   "outputs": [
    {
     "data": {
      "text/plain": [
       "Index(['Total 25-54 unemployment (%)',                           1981,\n",
       "                                 1982,                           1983,\n",
       "                                 1984,                           1985,\n",
       "                                 1986,                           1987,\n",
       "                                 1988,                           1989,\n",
       "                                 1990,                           1991,\n",
       "                                 1992,                           1993,\n",
       "                                 1994,                           1995,\n",
       "                                 1996,                           1997,\n",
       "                                 1998,                           1999,\n",
       "                                 2000,                           2001,\n",
       "                                 2002,                           2003,\n",
       "                                 2004,                           2005],\n",
       "      dtype='object')"
      ]
     },
     "execution_count": 26,
     "metadata": {},
     "output_type": "execute_result"
    }
   ],
   "source": [
    "df_unemp.columns"
   ]
  },
  {
   "cell_type": "markdown",
   "metadata": {
    "deletable": true,
    "editable": true
   },
   "source": [
    "## How do download other datasets from Gapminder\n",
    "\n",
    "- Go to http://www.gapminder.org/data/ and search for a dataset. \n",
    "- Get indicator name and url (link).\n",
    "- The dataset will be downloaded and can be retrieved later without specifying the url.\n",
    "\n",
    "![gapminder_download](gapminder_download.png)"
   ]
  },
  {
   "cell_type": "code",
   "execution_count": 27,
   "metadata": {
    "collapsed": false,
    "deletable": true,
    "editable": true
   },
   "outputs": [
    {
     "name": "stdout",
     "output_type": "stream",
     "text": [
      "Downloaded: \"../data/gapminder/Suicide (per 100,000 people).xlsx\"\n",
      "URL: http://spreadsheets.google.com/pub?key=troMumuI0Y6Phpwnj6qXa_A&output=xls\n"
     ]
    }
   ],
   "source": [
    "name = 'Suicide (per 100,000 people)'\n",
    "url = 'http://spreadsheets.google.com/pub?key=troMumuI0Y6Phpwnj6qXa_A&output=xls'\n",
    "df_sui = gm.get_dataset(name,url=url)"
   ]
  },
  {
   "cell_type": "code",
   "execution_count": 28,
   "metadata": {
    "collapsed": false,
    "deletable": true,
    "editable": true
   },
   "outputs": [
    {
     "data": {
      "text/plain": [
       "Index(['Suicide, age adjusted, per 100 000 standard population',\n",
       "                                                           1950,\n",
       "                                                           1951,\n",
       "                                                           1952,\n",
       "                                                           1953,\n",
       "                                                           1954,\n",
       "                                                           1955,\n",
       "                                                           1956,\n",
       "                                                           1957,\n",
       "                                                           1958,\n",
       "                                                           1959,\n",
       "                                                           1960,\n",
       "                                                           1961,\n",
       "                                                           1962,\n",
       "                                                           1963,\n",
       "                                                           1964,\n",
       "                                                           1965,\n",
       "                                                           1966,\n",
       "                                                           1967,\n",
       "                                                           1968,\n",
       "                                                           1969,\n",
       "                                                           1970,\n",
       "                                                           1971,\n",
       "                                                           1972,\n",
       "                                                           1973,\n",
       "                                                           1974,\n",
       "                                                           1975,\n",
       "                                                           1976,\n",
       "                                                           1977,\n",
       "                                                           1978,\n",
       "                                                           1979,\n",
       "                                                           1980,\n",
       "                                                           1981,\n",
       "                                                           1982,\n",
       "                                                           1983,\n",
       "                                                           1984,\n",
       "                                                           1985,\n",
       "                                                           1986,\n",
       "                                                           1987,\n",
       "                                                           1988,\n",
       "                                                           1989,\n",
       "                                                           1990,\n",
       "                                                           1991,\n",
       "                                                           1992,\n",
       "                                                           1993,\n",
       "                                                           1994,\n",
       "                                                           1995,\n",
       "                                                           1996,\n",
       "                                                           1997,\n",
       "                                                           1998,\n",
       "                                                           1999,\n",
       "                                                           2000,\n",
       "                                                           2001,\n",
       "                                                           2002,\n",
       "                                                           2003,\n",
       "                                                           2004,\n",
       "                                                           2005],\n",
       "      dtype='object')"
      ]
     },
     "execution_count": 28,
     "metadata": {},
     "output_type": "execute_result"
    }
   ],
   "source": [
    "df_sui.columns"
   ]
  },
  {
   "cell_type": "markdown",
   "metadata": {
    "collapsed": true,
    "deletable": true,
    "editable": true
   },
   "source": [
    "If the dataset is already downloaded, specifying an url is unnecessary (will not be used)."
   ]
  },
  {
   "cell_type": "code",
   "execution_count": 30,
   "metadata": {
    "collapsed": true
   },
   "outputs": [],
   "source": [
    "df_sui2 = gm.get_dataset('Suicide (per 100,000 people)')"
   ]
  },
  {
   "cell_type": "code",
   "execution_count": 31,
   "metadata": {
    "collapsed": false
   },
   "outputs": [
    {
     "data": {
      "text/plain": [
       "11286"
      ]
     },
     "execution_count": 31,
     "metadata": {},
     "output_type": "execute_result"
    }
   ],
   "source": [
    "df_sui2.size"
   ]
  },
  {
   "cell_type": "code",
   "execution_count": null,
   "metadata": {
    "collapsed": true
   },
   "outputs": [],
   "source": []
  }
 ],
 "metadata": {
  "kernelspec": {
   "display_name": "Python 3",
   "language": "python",
   "name": "python3"
  },
  "language_info": {
   "codemirror_mode": {
    "name": "ipython",
    "version": 3
   },
   "file_extension": ".py",
   "mimetype": "text/x-python",
   "name": "python",
   "nbconvert_exporter": "python",
   "pygments_lexer": "ipython3",
   "version": "3.5.2"
  }
 },
 "nbformat": 4,
 "nbformat_minor": 2
}
