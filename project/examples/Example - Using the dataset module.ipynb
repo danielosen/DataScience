{
 "cells": [
  {
   "cell_type": "markdown",
   "metadata": {
    "deletable": true,
    "editable": true
   },
   "source": [
    "# Using the datasets module\n",
    "This notebook must be executed inside the examples/ directory."
   ]
  },
  {
   "cell_type": "code",
   "execution_count": 1,
   "metadata": {
    "collapsed": false,
    "deletable": true,
    "editable": true
   },
   "outputs": [],
   "source": [
    "import os\n",
    "assert (os.getcwd().endswith('examples')), '%s\\n%s \"%s\"' % (\n",
    "    'Notebook must be executed inside examples directory\\n', \n",
    "    'Current directory is', os.getcwd())"
   ]
  },
  {
   "cell_type": "code",
   "execution_count": 2,
   "metadata": {
    "collapsed": false,
    "deletable": true,
    "editable": true
   },
   "outputs": [],
   "source": [
    "# fix import paths \n",
    "import sys\n",
    "sys.path.insert(0, '../')"
   ]
  },
  {
   "cell_type": "code",
   "execution_count": 3,
   "metadata": {
    "collapsed": true,
    "deletable": true,
    "editable": true
   },
   "outputs": [],
   "source": [
    "# fix data directory path in datasets module\n",
    "import modules.datasets as datasets\n",
    "datasets.DATADIR = '../' + datasets.DATADIR  "
   ]
  },
  {
   "cell_type": "markdown",
   "metadata": {
    "deletable": true,
    "editable": true
   },
   "source": [
    "# The ACLED class"
   ]
  },
  {
   "cell_type": "code",
   "execution_count": 4,
   "metadata": {
    "collapsed": true,
    "deletable": true,
    "editable": true
   },
   "outputs": [],
   "source": [
    "acled = datasets.ACLED()"
   ]
  },
  {
   "cell_type": "code",
   "execution_count": 5,
   "metadata": {
    "collapsed": false,
    "deletable": true,
    "editable": true
   },
   "outputs": [
    {
     "data": {
      "text/plain": [
       "modules.datasets.ACLED"
      ]
     },
     "execution_count": 5,
     "metadata": {},
     "output_type": "execute_result"
    }
   ],
   "source": [
    "type(acled)"
   ]
  },
  {
   "cell_type": "code",
   "execution_count": 6,
   "metadata": {
    "collapsed": false,
    "deletable": true,
    "editable": true
   },
   "outputs": [],
   "source": [
    "## delete some data from mongodb to test database update below\n",
    "#import datetime\n",
    "#starttime = datetime.datetime(2017,3,1)  # March 1st, 2017\n",
    "#acled.mongodb_delete_many(del_filter={'event_date': {'$gt':starttime}})"
   ]
  },
  {
   "cell_type": "markdown",
   "metadata": {
    "deletable": true,
    "editable": true
   },
   "source": [
    "### Download new data from ACLED server (or everything if database does not exist)"
   ]
  },
  {
   "cell_type": "code",
   "execution_count": 7,
   "metadata": {
    "collapsed": false,
    "deletable": true,
    "editable": true
   },
   "outputs": [
    {
     "name": "stdout",
     "output_type": "stream",
     "text": [
      "2017-03-25 20:26:21.071004 Querying ACLED API (one dot is 500 rows) ...\n",
      "2017-03-25 20:26:31.795270 2 pages retrieved from ACLED API.\n",
      "2017-03-25 20:26:31.795510 Make DataFrame...\n",
      "2017-03-25 20:26:31.805392 Apply str->datetime on event_date...\n",
      "595 records inserted to mongodb, 606 lines in csv. (Investigate difference)\n"
     ]
    }
   ],
   "source": [
    "acled.mongodb_update_database()"
   ]
  },
  {
   "cell_type": "markdown",
   "metadata": {
    "deletable": true,
    "editable": true
   },
   "source": [
    "### Getting the enitre ACLED database as a pandas.DataFrame"
   ]
  },
  {
   "cell_type": "code",
   "execution_count": 8,
   "metadata": {
    "collapsed": true,
    "deletable": true,
    "editable": true
   },
   "outputs": [],
   "source": [
    "import pandas as pd"
   ]
  },
  {
   "cell_type": "code",
   "execution_count": 9,
   "metadata": {
    "collapsed": false,
    "deletable": true,
    "editable": true
   },
   "outputs": [],
   "source": [
    "df = acled.mongodb_get_entire_database()"
   ]
  },
  {
   "cell_type": "code",
   "execution_count": 10,
   "metadata": {
    "collapsed": false,
    "deletable": true,
    "editable": true
   },
   "outputs": [
    {
     "data": {
      "text/plain": [
       "Index(['_id', 'actor1', 'actor2', 'admin1', 'admin2', 'admin3', 'ally_actor_1',\n",
       "       'ally_actor_2', 'country', 'data_id', 'event_date', 'event_id_cnty',\n",
       "       'event_id_no_cnty', 'event_type', 'fatalities', 'geo_precision', 'gwno',\n",
       "       'inter1', 'inter2', 'interaction', 'latitude', 'location', 'longitude',\n",
       "       'notes', 'source', 'time_precision', 'year'],\n",
       "      dtype='object')"
      ]
     },
     "execution_count": 10,
     "metadata": {},
     "output_type": "execute_result"
    }
   ],
   "source": [
    "df.columns"
   ]
  },
  {
   "cell_type": "code",
   "execution_count": 11,
   "metadata": {
    "collapsed": false,
    "deletable": true,
    "editable": true
   },
   "outputs": [
    {
     "data": {
      "text/html": [
       "<div>\n",
       "<table border=\"1\" class=\"dataframe\">\n",
       "  <thead>\n",
       "    <tr style=\"text-align: right;\">\n",
       "      <th></th>\n",
       "      <th>_id</th>\n",
       "      <th>actor1</th>\n",
       "      <th>actor2</th>\n",
       "      <th>admin1</th>\n",
       "      <th>admin2</th>\n",
       "      <th>admin3</th>\n",
       "      <th>ally_actor_1</th>\n",
       "      <th>ally_actor_2</th>\n",
       "      <th>country</th>\n",
       "      <th>data_id</th>\n",
       "      <th>...</th>\n",
       "      <th>inter1</th>\n",
       "      <th>inter2</th>\n",
       "      <th>interaction</th>\n",
       "      <th>latitude</th>\n",
       "      <th>location</th>\n",
       "      <th>longitude</th>\n",
       "      <th>notes</th>\n",
       "      <th>source</th>\n",
       "      <th>time_precision</th>\n",
       "      <th>year</th>\n",
       "    </tr>\n",
       "  </thead>\n",
       "  <tbody>\n",
       "    <tr>\n",
       "      <th>0</th>\n",
       "      <td>58d6c467b2c79a65fc8e6c64</td>\n",
       "      <td>Protesters (Malawi)</td>\n",
       "      <td></td>\n",
       "      <td>Lilongwe</td>\n",
       "      <td>Lilongwe City</td>\n",
       "      <td>n.a. (907)</td>\n",
       "      <td></td>\n",
       "      <td></td>\n",
       "      <td>Malawi</td>\n",
       "      <td>142532</td>\n",
       "      <td>...</td>\n",
       "      <td>6</td>\n",
       "      <td>0</td>\n",
       "      <td>60</td>\n",
       "      <td>-13.9833</td>\n",
       "      <td>Lilongwe</td>\n",
       "      <td>33.7833</td>\n",
       "      <td>Malawian civil society organisations held a da...</td>\n",
       "      <td>Nyasa Times (Leeds)</td>\n",
       "      <td>1</td>\n",
       "      <td>2017</td>\n",
       "    </tr>\n",
       "    <tr>\n",
       "      <th>1</th>\n",
       "      <td>58d6c467b2c79a65fc8e6c65</td>\n",
       "      <td>Rioters (Madagascar)</td>\n",
       "      <td>Police Forces of Madagascar (2014-)</td>\n",
       "      <td>Antananarivo</td>\n",
       "      <td>Analamanga</td>\n",
       "      <td>Andramasina</td>\n",
       "      <td>Students (Madagascar)</td>\n",
       "      <td></td>\n",
       "      <td>Madagascar</td>\n",
       "      <td>142520</td>\n",
       "      <td>...</td>\n",
       "      <td>5</td>\n",
       "      <td>1</td>\n",
       "      <td>15</td>\n",
       "      <td>-19.3000</td>\n",
       "      <td>Ankatso</td>\n",
       "      <td>47.8333</td>\n",
       "      <td>Students staged a protest over the cutting of ...</td>\n",
       "      <td>L'Express de Madagascar</td>\n",
       "      <td>1</td>\n",
       "      <td>2017</td>\n",
       "    </tr>\n",
       "    <tr>\n",
       "      <th>2</th>\n",
       "      <td>58d6c467b2c79a65fc8e6c66</td>\n",
       "      <td>Unidentified Armed Group (Kenya)</td>\n",
       "      <td>Civilians (Kenya)</td>\n",
       "      <td>Garissa</td>\n",
       "      <td>Daadab</td>\n",
       "      <td>Dadaab</td>\n",
       "      <td></td>\n",
       "      <td></td>\n",
       "      <td>Kenya</td>\n",
       "      <td>142259</td>\n",
       "      <td>...</td>\n",
       "      <td>3</td>\n",
       "      <td>7</td>\n",
       "      <td>37</td>\n",
       "      <td>0.0514</td>\n",
       "      <td>Dadaab Refugee Camp</td>\n",
       "      <td>40.3142</td>\n",
       "      <td>Unidentified gunmen kidnapped three teachers f...</td>\n",
       "      <td>Associated Press</td>\n",
       "      <td>1</td>\n",
       "      <td>2017</td>\n",
       "    </tr>\n",
       "    <tr>\n",
       "      <th>3</th>\n",
       "      <td>58d6c467b2c79a65fc8e6c67</td>\n",
       "      <td>Protesters (Ethiopia)</td>\n",
       "      <td></td>\n",
       "      <td>Oromia</td>\n",
       "      <td>Misraq Harerge</td>\n",
       "      <td>Babile</td>\n",
       "      <td></td>\n",
       "      <td></td>\n",
       "      <td>Ethiopia</td>\n",
       "      <td>142086</td>\n",
       "      <td>...</td>\n",
       "      <td>6</td>\n",
       "      <td>0</td>\n",
       "      <td>60</td>\n",
       "      <td>9.2167</td>\n",
       "      <td>Babile</td>\n",
       "      <td>42.3333</td>\n",
       "      <td>Protests reported in Babile, with demonstrator...</td>\n",
       "      <td>Oromiya Media Network</td>\n",
       "      <td>1</td>\n",
       "      <td>2017</td>\n",
       "    </tr>\n",
       "    <tr>\n",
       "      <th>4</th>\n",
       "      <td>58d6c467b2c79a65fc8e6c68</td>\n",
       "      <td>Police Forces of Egypt (2014-)</td>\n",
       "      <td>Lewaa El-Thawra</td>\n",
       "      <td>Giza</td>\n",
       "      <td>Kardasa</td>\n",
       "      <td></td>\n",
       "      <td></td>\n",
       "      <td></td>\n",
       "      <td>Egypt</td>\n",
       "      <td>142009</td>\n",
       "      <td>...</td>\n",
       "      <td>1</td>\n",
       "      <td>3</td>\n",
       "      <td>13</td>\n",
       "      <td>30.0310</td>\n",
       "      <td>Kirdasah</td>\n",
       "      <td>31.1111</td>\n",
       "      <td>Egypt's Interior Ministry reportedly killed on...</td>\n",
       "      <td>Egypt Independent; Al-Ahram Gate</td>\n",
       "      <td>1</td>\n",
       "      <td>2017</td>\n",
       "    </tr>\n",
       "  </tbody>\n",
       "</table>\n",
       "<p>5 rows × 27 columns</p>\n",
       "</div>"
      ],
      "text/plain": [
       "                        _id                            actor1  \\\n",
       "0  58d6c467b2c79a65fc8e6c64               Protesters (Malawi)   \n",
       "1  58d6c467b2c79a65fc8e6c65              Rioters (Madagascar)   \n",
       "2  58d6c467b2c79a65fc8e6c66  Unidentified Armed Group (Kenya)   \n",
       "3  58d6c467b2c79a65fc8e6c67             Protesters (Ethiopia)   \n",
       "4  58d6c467b2c79a65fc8e6c68    Police Forces of Egypt (2014-)   \n",
       "\n",
       "                                actor2        admin1          admin2  \\\n",
       "0                                           Lilongwe   Lilongwe City   \n",
       "1  Police Forces of Madagascar (2014-)  Antananarivo      Analamanga   \n",
       "2                    Civilians (Kenya)       Garissa          Daadab   \n",
       "3                                             Oromia  Misraq Harerge   \n",
       "4                      Lewaa El-Thawra          Giza         Kardasa   \n",
       "\n",
       "        admin3           ally_actor_1 ally_actor_2     country  data_id  ...   \\\n",
       "0   n.a. (907)                                          Malawi   142532  ...    \n",
       "1  Andramasina  Students (Madagascar)               Madagascar   142520  ...    \n",
       "2       Dadaab                                           Kenya   142259  ...    \n",
       "3       Babile                                        Ethiopia   142086  ...    \n",
       "4                                                        Egypt   142009  ...    \n",
       "\n",
       "  inter1 inter2 interaction latitude             location  longitude  \\\n",
       "0      6      0          60 -13.9833             Lilongwe    33.7833   \n",
       "1      5      1          15 -19.3000              Ankatso    47.8333   \n",
       "2      3      7          37   0.0514  Dadaab Refugee Camp    40.3142   \n",
       "3      6      0          60   9.2167               Babile    42.3333   \n",
       "4      1      3          13  30.0310             Kirdasah    31.1111   \n",
       "\n",
       "                                               notes  \\\n",
       "0  Malawian civil society organisations held a da...   \n",
       "1  Students staged a protest over the cutting of ...   \n",
       "2  Unidentified gunmen kidnapped three teachers f...   \n",
       "3  Protests reported in Babile, with demonstrator...   \n",
       "4  Egypt's Interior Ministry reportedly killed on...   \n",
       "\n",
       "                             source  time_precision  year  \n",
       "0               Nyasa Times (Leeds)               1  2017  \n",
       "1           L'Express de Madagascar               1  2017  \n",
       "2                  Associated Press               1  2017  \n",
       "3             Oromiya Media Network               1  2017  \n",
       "4  Egypt Independent; Al-Ahram Gate               1  2017  \n",
       "\n",
       "[5 rows x 27 columns]"
      ]
     },
     "execution_count": 11,
     "metadata": {},
     "output_type": "execute_result"
    }
   ],
   "source": [
    "df.head()"
   ]
  },
  {
   "cell_type": "markdown",
   "metadata": {
    "deletable": true,
    "editable": true
   },
   "source": [
    "### List unique countries"
   ]
  },
  {
   "cell_type": "code",
   "execution_count": 12,
   "metadata": {
    "collapsed": false,
    "deletable": true,
    "editable": true
   },
   "outputs": [
    {
     "data": {
      "text/plain": [
       "array(['Malawi', 'Madagascar', 'Kenya', 'Ethiopia', 'Egypt', 'Chad',\n",
       "       'Central African Republic', 'Libya', 'Ivory Coast', 'Ghana',\n",
       "       'Democratic Republic of Congo', 'Burkina Faso', 'Zimbabwe',\n",
       "       'Tunisia', 'Sudan', 'South Sudan', 'South Africa', 'Somalia',\n",
       "       'Morocco', 'Mali', 'Nigeria', 'Niger', 'Burundi', 'Algeria',\n",
       "       'Sierra Leone', 'Gambia', 'Cameroon', 'Republic of Congo', 'Uganda',\n",
       "       'Togo', 'Angola', 'Namibia', 'Senegal', 'Guinea', 'Gabon', 'Rwanda',\n",
       "       'Mauritania', 'Guinea-Bissau', 'Tanzania', 'Liberia', 'Mozambique',\n",
       "       'Zambia', 'Benin', 'Botswana', 'Djibouti', 'Swaziland', 'Lesotho',\n",
       "       'Eritrea', 'Equatorial Guinea'], dtype=object)"
      ]
     },
     "execution_count": 12,
     "metadata": {},
     "output_type": "execute_result"
    }
   ],
   "source": [
    "df['country'].unique()"
   ]
  },
  {
   "cell_type": "markdown",
   "metadata": {
    "deletable": true,
    "editable": true
   },
   "source": [
    "### Fetch data for Somalia"
   ]
  },
  {
   "cell_type": "code",
   "execution_count": 13,
   "metadata": {
    "collapsed": false,
    "deletable": true,
    "editable": true
   },
   "outputs": [],
   "source": [
    "df_somalia = df[df['country'] == 'Somalia']"
   ]
  },
  {
   "cell_type": "code",
   "execution_count": 14,
   "metadata": {
    "collapsed": false,
    "deletable": true,
    "editable": true
   },
   "outputs": [
    {
     "data": {
      "text/plain": [
       "array(['Somalia'], dtype=object)"
      ]
     },
     "execution_count": 14,
     "metadata": {},
     "output_type": "execute_result"
    }
   ],
   "source": [
    "df_somalia['country'].unique()"
   ]
  },
  {
   "cell_type": "markdown",
   "metadata": {},
   "source": [
    "### Append 'geo_point' column to DataFrame (for shapely.geometry)"
   ]
  },
  {
   "cell_type": "code",
   "execution_count": 15,
   "metadata": {
    "collapsed": true
   },
   "outputs": [],
   "source": [
    "# disable false positive warning\n",
    "pd.options.mode.chained_assignment = None  # default='warn'\n",
    "# apply geo_points\n",
    "acled.append_geo_points(df_somalia)"
   ]
  },
  {
   "cell_type": "code",
   "execution_count": 16,
   "metadata": {
    "collapsed": false
   },
   "outputs": [
    {
     "data": {
      "text/html": [
       "<div>\n",
       "<table border=\"1\" class=\"dataframe\">\n",
       "  <thead>\n",
       "    <tr style=\"text-align: right;\">\n",
       "      <th></th>\n",
       "      <th>fatalities</th>\n",
       "      <th>location</th>\n",
       "      <th>latitude</th>\n",
       "      <th>longitude</th>\n",
       "      <th>geo_point</th>\n",
       "    </tr>\n",
       "  </thead>\n",
       "  <tbody>\n",
       "    <tr>\n",
       "      <th>31</th>\n",
       "      <td>0</td>\n",
       "      <td>Daynile</td>\n",
       "      <td>2.05814</td>\n",
       "      <td>45.3003</td>\n",
       "      <td>POINT (2.05814 45.3003)</td>\n",
       "    </tr>\n",
       "    <tr>\n",
       "      <th>32</th>\n",
       "      <td>0</td>\n",
       "      <td>Belet Weyne</td>\n",
       "      <td>4.73598</td>\n",
       "      <td>45.2043</td>\n",
       "      <td>POINT (4.735980000000001 45.2043)</td>\n",
       "    </tr>\n",
       "    <tr>\n",
       "      <th>33</th>\n",
       "      <td>2</td>\n",
       "      <td>Mahadaay</td>\n",
       "      <td>2.97043</td>\n",
       "      <td>45.5347</td>\n",
       "      <td>POINT (2.97043 45.5347)</td>\n",
       "    </tr>\n",
       "    <tr>\n",
       "      <th>34</th>\n",
       "      <td>57</td>\n",
       "      <td>Afmadow</td>\n",
       "      <td>0.51720</td>\n",
       "      <td>42.0710</td>\n",
       "      <td>POINT (0.5172 42.07100000000001)</td>\n",
       "    </tr>\n",
       "    <tr>\n",
       "      <th>70</th>\n",
       "      <td>1</td>\n",
       "      <td>Baidoa</td>\n",
       "      <td>3.11718</td>\n",
       "      <td>43.6469</td>\n",
       "      <td>POINT (3.11718 43.6469)</td>\n",
       "    </tr>\n",
       "  </tbody>\n",
       "</table>\n",
       "</div>"
      ],
      "text/plain": [
       "    fatalities     location  latitude  longitude  \\\n",
       "31           0      Daynile   2.05814    45.3003   \n",
       "32           0  Belet Weyne   4.73598    45.2043   \n",
       "33           2     Mahadaay   2.97043    45.5347   \n",
       "34          57      Afmadow   0.51720    42.0710   \n",
       "70           1       Baidoa   3.11718    43.6469   \n",
       "\n",
       "                            geo_point  \n",
       "31            POINT (2.05814 45.3003)  \n",
       "32  POINT (4.735980000000001 45.2043)  \n",
       "33            POINT (2.97043 45.5347)  \n",
       "34   POINT (0.5172 42.07100000000001)  \n",
       "70            POINT (3.11718 43.6469)  "
      ]
     },
     "execution_count": 16,
     "metadata": {},
     "output_type": "execute_result"
    }
   ],
   "source": [
    "df_somalia[['fatalities','location','latitude','longitude','geo_point']][:5]"
   ]
  },
  {
   "cell_type": "markdown",
   "metadata": {
    "deletable": true,
    "editable": true
   },
   "source": [
    "### Data newer than 2017-01-31"
   ]
  },
  {
   "cell_type": "code",
   "execution_count": 17,
   "metadata": {
    "collapsed": false,
    "deletable": true,
    "editable": true
   },
   "outputs": [],
   "source": [
    "import datetime"
   ]
  },
  {
   "cell_type": "code",
   "execution_count": 18,
   "metadata": {
    "collapsed": false,
    "deletable": true,
    "editable": true
   },
   "outputs": [],
   "source": [
    "starttime = datetime.datetime(2017, 1, 31)\n",
    "df_somalia_feb = df[df['event_date'] >= starttime]"
   ]
  },
  {
   "cell_type": "markdown",
   "metadata": {
    "deletable": true,
    "editable": true
   },
   "source": [
    "### Top ten fatalities"
   ]
  },
  {
   "cell_type": "code",
   "execution_count": 19,
   "metadata": {
    "collapsed": false,
    "deletable": true,
    "editable": true
   },
   "outputs": [
    {
     "data": {
      "text/html": [
       "<div>\n",
       "<table border=\"1\" class=\"dataframe\">\n",
       "  <thead>\n",
       "    <tr style=\"text-align: right;\">\n",
       "      <th></th>\n",
       "      <th>event_date</th>\n",
       "      <th>location</th>\n",
       "      <th>fatalities</th>\n",
       "      <th>interaction</th>\n",
       "      <th>event_type</th>\n",
       "    </tr>\n",
       "  </thead>\n",
       "  <tbody>\n",
       "    <tr>\n",
       "      <th>1463</th>\n",
       "      <td>2017-02-08</td>\n",
       "      <td>Owachi</td>\n",
       "      <td>98</td>\n",
       "      <td>12</td>\n",
       "      <td>Battle-No change of territory</td>\n",
       "    </tr>\n",
       "    <tr>\n",
       "      <th>101</th>\n",
       "      <td>2017-03-04</td>\n",
       "      <td>Torit</td>\n",
       "      <td>77</td>\n",
       "      <td>23</td>\n",
       "      <td>Battle-No change of territory</td>\n",
       "    </tr>\n",
       "    <tr>\n",
       "      <th>144845</th>\n",
       "      <td>2017-03-04</td>\n",
       "      <td>Torit</td>\n",
       "      <td>77</td>\n",
       "      <td>23</td>\n",
       "      <td>Battle-No change of territory</td>\n",
       "    </tr>\n",
       "    <tr>\n",
       "      <th>34</th>\n",
       "      <td>2017-03-02</td>\n",
       "      <td>Afmadow</td>\n",
       "      <td>57</td>\n",
       "      <td>28</td>\n",
       "      <td>Battle-No change of territory</td>\n",
       "    </tr>\n",
       "    <tr>\n",
       "      <th>144931</th>\n",
       "      <td>2017-03-02</td>\n",
       "      <td>Afmadow</td>\n",
       "      <td>57</td>\n",
       "      <td>28</td>\n",
       "      <td>Battle-No change of territory</td>\n",
       "    </tr>\n",
       "    <tr>\n",
       "      <th>1175</th>\n",
       "      <td>2017-02-15</td>\n",
       "      <td>Mokolo</td>\n",
       "      <td>56</td>\n",
       "      <td>12</td>\n",
       "      <td>Battle-No change of territory</td>\n",
       "    </tr>\n",
       "    <tr>\n",
       "      <th>773</th>\n",
       "      <td>2017-02-25</td>\n",
       "      <td>Yuai</td>\n",
       "      <td>53</td>\n",
       "      <td>12</td>\n",
       "      <td>Battle-No change of territory</td>\n",
       "    </tr>\n",
       "    <tr>\n",
       "      <th>144352</th>\n",
       "      <td>2017-03-18</td>\n",
       "      <td>Ganfouda</td>\n",
       "      <td>48</td>\n",
       "      <td>13</td>\n",
       "      <td>Battle-Government regains territory</td>\n",
       "    </tr>\n",
       "    <tr>\n",
       "      <th>225</th>\n",
       "      <td>2017-03-18</td>\n",
       "      <td>Ganfouda</td>\n",
       "      <td>48</td>\n",
       "      <td>13</td>\n",
       "      <td>Battle-Government regains territory</td>\n",
       "    </tr>\n",
       "    <tr>\n",
       "      <th>849</th>\n",
       "      <td>2017-02-23</td>\n",
       "      <td>Ganfouda</td>\n",
       "      <td>44</td>\n",
       "      <td>13</td>\n",
       "      <td>Strategic development</td>\n",
       "    </tr>\n",
       "  </tbody>\n",
       "</table>\n",
       "</div>"
      ],
      "text/plain": [
       "       event_date  location  fatalities  interaction  \\\n",
       "1463   2017-02-08    Owachi          98           12   \n",
       "101    2017-03-04     Torit          77           23   \n",
       "144845 2017-03-04     Torit          77           23   \n",
       "34     2017-03-02   Afmadow          57           28   \n",
       "144931 2017-03-02   Afmadow          57           28   \n",
       "1175   2017-02-15    Mokolo          56           12   \n",
       "773    2017-02-25      Yuai          53           12   \n",
       "144352 2017-03-18  Ganfouda          48           13   \n",
       "225    2017-03-18  Ganfouda          48           13   \n",
       "849    2017-02-23  Ganfouda          44           13   \n",
       "\n",
       "                                 event_type  \n",
       "1463          Battle-No change of territory  \n",
       "101           Battle-No change of territory  \n",
       "144845        Battle-No change of territory  \n",
       "34            Battle-No change of territory  \n",
       "144931        Battle-No change of territory  \n",
       "1175          Battle-No change of territory  \n",
       "773           Battle-No change of territory  \n",
       "144352  Battle-Government regains territory  \n",
       "225     Battle-Government regains territory  \n",
       "849                   Strategic development  "
      ]
     },
     "execution_count": 19,
     "metadata": {},
     "output_type": "execute_result"
    }
   ],
   "source": [
    "df_somalia_feb[['event_date','location','fatalities','interaction','event_type']].sort_values(['fatalities'],ascending=False)[:10]"
   ]
  },
  {
   "cell_type": "code",
   "execution_count": 20,
   "metadata": {
    "collapsed": false,
    "deletable": true,
    "editable": true
   },
   "outputs": [
    {
     "data": {
      "text/plain": [
       "Index(['_id', 'actor1', 'actor2', 'admin1', 'admin2', 'admin3', 'ally_actor_1',\n",
       "       'ally_actor_2', 'country', 'data_id', 'event_date', 'event_id_cnty',\n",
       "       'event_id_no_cnty', 'event_type', 'fatalities', 'geo_precision', 'gwno',\n",
       "       'inter1', 'inter2', 'interaction', 'latitude', 'location', 'longitude',\n",
       "       'notes', 'source', 'time_precision', 'year'],\n",
       "      dtype='object')"
      ]
     },
     "execution_count": 20,
     "metadata": {},
     "output_type": "execute_result"
    }
   ],
   "source": [
    "df.columns"
   ]
  },
  {
   "cell_type": "markdown",
   "metadata": {
    "collapsed": true,
    "deletable": true,
    "editable": true
   },
   "source": [
    "# The Gapminder class\n",
    "Data from www.gapminder.org"
   ]
  },
  {
   "cell_type": "code",
   "execution_count": 21,
   "metadata": {
    "collapsed": false,
    "deletable": true,
    "editable": true
   },
   "outputs": [],
   "source": [
    "gm = datasets.Gapminder()"
   ]
  },
  {
   "cell_type": "code",
   "execution_count": 22,
   "metadata": {
    "collapsed": false,
    "deletable": true,
    "editable": true
   },
   "outputs": [
    {
     "data": {
      "text/plain": [
       "dict_keys(['Body Mass Index (BMI), women, Kg/m2', 'Urban population growth (annual %)', 'Medical Doctors (per 1,000 people)', 'Births attended by skilled health staff (% of total)', 'Body Mass Index (BMI), men, Kg/m2', 'Aid received (% of GNI)', 'Cell phones (per 100 people)', 'Age 15-24 unemployment rate', 'Crude death rate (deaths per 1,000 population)'])"
      ]
     },
     "execution_count": 22,
     "metadata": {},
     "output_type": "execute_result"
    }
   ],
   "source": [
    "gm.get_dataset_names()"
   ]
  },
  {
   "cell_type": "code",
   "execution_count": 23,
   "metadata": {
    "collapsed": false,
    "deletable": true,
    "editable": true
   },
   "outputs": [],
   "source": [
    "df_bmi = gm.get_dataset('Body Mass Index (BMI), men, Kg/m2')"
   ]
  },
  {
   "cell_type": "code",
   "execution_count": 24,
   "metadata": {
    "collapsed": false,
    "deletable": true,
    "editable": true
   },
   "outputs": [
    {
     "data": {
      "text/plain": [
       "Index(['Country',      1980,      1981,      1982,      1983,      1984,\n",
       "            1985,      1986,      1987,      1988,      1989,      1990,\n",
       "            1991,      1992,      1993,      1994,      1995,      1996,\n",
       "            1997,      1998,      1999,      2000,      2001,      2002,\n",
       "            2003,      2004,      2005,      2006,      2007,      2008],\n",
       "      dtype='object')"
      ]
     },
     "execution_count": 24,
     "metadata": {},
     "output_type": "execute_result"
    }
   ],
   "source": [
    "df_bmi.columns"
   ]
  },
  {
   "cell_type": "code",
   "execution_count": 25,
   "metadata": {
    "collapsed": false,
    "deletable": true,
    "editable": true
   },
   "outputs": [
    {
     "data": {
      "text/plain": [
       "array(['Afghanistan', 'Albania', 'Algeria', 'Andorra', 'Angola',\n",
       "       'Antigua and Barbuda', 'Argentina', 'Armenia', 'Australia',\n",
       "       'Austria', 'Azerbaijan', 'Bahamas', 'Bahrain', 'Bangladesh',\n",
       "       'Barbados', 'Belarus', 'Belgium', 'Belize', 'Benin', 'Bermuda',\n",
       "       'Bhutan', 'Bolivia', 'Bosnia and Herzegovina', 'Botswana', 'Brazil',\n",
       "       'British Virgin Islands', 'Brunei', 'Bulgaria', 'Burkina Faso',\n",
       "       'Burundi', 'Cambodia', 'Cameroon', 'Canada', 'Cape Verde',\n",
       "       'Central African Rep.', 'Chad', 'Chile', 'China', 'Colombia',\n",
       "       'Comoros', 'Congo, Dem. Rep.', 'Congo, Rep.', 'Cook Islands',\n",
       "       'Costa Rica', \"Cote d'Ivoire\", 'Croatia', 'Cuba', 'Cyprus',\n",
       "       'Czech Rep.', 'Denmark', 'Djibouti', 'Dominica', 'Dominican Rep.',\n",
       "       'Ecuador', 'Egypt', 'El Salvador', 'Equatorial Guinea', 'Eritrea',\n",
       "       'Estonia', 'Ethiopia', 'Fiji', 'Finland', 'France',\n",
       "       'French Polynesia', 'Gabon', 'Gambia', 'Georgia', 'Germany',\n",
       "       'Ghana', 'Greece', 'Greenland', 'Grenada', 'Guatemala', 'Guinea',\n",
       "       'Guinea-Bissau', 'Guyana', 'Haiti', 'Honduras', 'Hong Kong, China',\n",
       "       'Hungary', 'Iceland', 'India', 'Indonesia', 'Iran', 'Iraq',\n",
       "       'Ireland', 'Israel', 'Italy', 'Jamaica', 'Japan', 'Jordan',\n",
       "       'Kazakhstan', 'Kenya', 'Kiribati', 'Korea, Dem. Rep.',\n",
       "       'Korea, Rep.', 'Kuwait', 'Kyrgyzstan', 'Laos', 'Latvia', 'Lebanon',\n",
       "       'Lesotho', 'Liberia', 'Libya', 'Lithuania', 'Luxembourg',\n",
       "       'Macao, China', 'Macedonia, FYR', 'Madagascar', 'Malawi',\n",
       "       'Malaysia', 'Maldives', 'Mali', 'Malta', 'Marshall Islands',\n",
       "       'Mauritania', 'Mauritius', 'Mexico', 'Micronesia, Fed. Sts.',\n",
       "       'Moldova', 'Mongolia', 'Montenegro', 'Morocco', 'Mozambique',\n",
       "       'Myanmar', 'Namibia', 'Nauru', 'Nepal', 'Netherlands',\n",
       "       'Netherlands Antilles', 'New Zealand', 'Nicaragua', 'Niger',\n",
       "       'Nigeria', 'Norway', 'Oman', 'Pakistan', 'Palau', 'Panama',\n",
       "       'Papua New Guinea', 'Paraguay', 'Peru', 'Philippines', 'Poland',\n",
       "       'Portugal', 'Puerto Rico', 'Qatar', 'Romania', 'Russia', 'Rwanda',\n",
       "       'Saint Kitts and Nevis', 'Saint Lucia',\n",
       "       'Saint Vincent and the Grenadines', 'Samoa',\n",
       "       'Sao Tome and Principe', 'Saudi Arabia', 'Senegal', 'Serbia',\n",
       "       'Seychelles', 'Sierra Leone', 'Singapore', 'Slovak Republic',\n",
       "       'Slovenia', 'Solomon Islands', 'Somalia', 'South Africa', 'Spain',\n",
       "       'Sri Lanka', 'Sudan', 'Suriname', 'Swaziland', 'Sweden',\n",
       "       'Switzerland', 'Syria', 'Taiwan', 'Tajikistan', 'Tanzania',\n",
       "       'Thailand', 'Timor-Leste', 'Togo', 'Tonga', 'Trinidad and Tobago',\n",
       "       'Tunisia', 'Turkey', 'Turkmenistan', 'Uganda', 'Ukraine',\n",
       "       'United Arab Emirates', 'United Kingdom', 'United States',\n",
       "       'Uruguay', 'Uzbekistan', 'Vanuatu', 'Venezuela', 'Vietnam',\n",
       "       'West Bank and Gaza', 'Yemen, Rep.', 'Zambia', 'Zimbabwe'], dtype=object)"
      ]
     },
     "execution_count": 25,
     "metadata": {},
     "output_type": "execute_result"
    }
   ],
   "source": [
    "df_bmi['Country'].unique()"
   ]
  },
  {
   "cell_type": "code",
   "execution_count": 26,
   "metadata": {
    "collapsed": false,
    "deletable": true,
    "editable": true
   },
   "outputs": [
    {
     "data": {
      "text/html": [
       "<div>\n",
       "<table border=\"1\" class=\"dataframe\">\n",
       "  <thead>\n",
       "    <tr style=\"text-align: right;\">\n",
       "      <th></th>\n",
       "      <th>Country</th>\n",
       "      <th>1980</th>\n",
       "      <th>1981</th>\n",
       "      <th>1982</th>\n",
       "      <th>1983</th>\n",
       "      <th>1984</th>\n",
       "      <th>1985</th>\n",
       "      <th>1986</th>\n",
       "      <th>1987</th>\n",
       "      <th>1988</th>\n",
       "      <th>...</th>\n",
       "      <th>1999</th>\n",
       "      <th>2000</th>\n",
       "      <th>2001</th>\n",
       "      <th>2002</th>\n",
       "      <th>2003</th>\n",
       "      <th>2004</th>\n",
       "      <th>2005</th>\n",
       "      <th>2006</th>\n",
       "      <th>2007</th>\n",
       "      <th>2008</th>\n",
       "    </tr>\n",
       "  </thead>\n",
       "  <tbody>\n",
       "    <tr>\n",
       "      <th>168</th>\n",
       "      <td>Sudan</td>\n",
       "      <td>20.71915</td>\n",
       "      <td>20.75761</td>\n",
       "      <td>20.79627</td>\n",
       "      <td>20.82779</td>\n",
       "      <td>20.8473</td>\n",
       "      <td>20.86213</td>\n",
       "      <td>20.8824</td>\n",
       "      <td>20.90864</td>\n",
       "      <td>20.93535</td>\n",
       "      <td>...</td>\n",
       "      <td>21.49895</td>\n",
       "      <td>21.57897</td>\n",
       "      <td>21.66078</td>\n",
       "      <td>21.75247</td>\n",
       "      <td>21.84463</td>\n",
       "      <td>21.9434</td>\n",
       "      <td>22.0473</td>\n",
       "      <td>22.16048</td>\n",
       "      <td>22.28084</td>\n",
       "      <td>22.40484</td>\n",
       "    </tr>\n",
       "  </tbody>\n",
       "</table>\n",
       "<p>1 rows × 30 columns</p>\n",
       "</div>"
      ],
      "text/plain": [
       "    Country      1980      1981      1982      1983     1984      1985  \\\n",
       "168   Sudan  20.71915  20.75761  20.79627  20.82779  20.8473  20.86213   \n",
       "\n",
       "        1986      1987      1988    ...         1999      2000      2001  \\\n",
       "168  20.8824  20.90864  20.93535    ...     21.49895  21.57897  21.66078   \n",
       "\n",
       "         2002      2003     2004     2005      2006      2007      2008  \n",
       "168  21.75247  21.84463  21.9434  22.0473  22.16048  22.28084  22.40484  \n",
       "\n",
       "[1 rows x 30 columns]"
      ]
     },
     "execution_count": 26,
     "metadata": {},
     "output_type": "execute_result"
    }
   ],
   "source": [
    "df_bmi_sudan = df_bmi[df_bmi['Country'] == 'Sudan']\n",
    "df_bmi_sudan"
   ]
  },
  {
   "cell_type": "code",
   "execution_count": 27,
   "metadata": {
    "collapsed": false,
    "deletable": true,
    "editable": true
   },
   "outputs": [],
   "source": [
    "df_unemp = gm.get_dataset('Age 15-24 unemployment rate')"
   ]
  },
  {
   "cell_type": "code",
   "execution_count": 28,
   "metadata": {
    "collapsed": false,
    "deletable": true,
    "editable": true
   },
   "outputs": [
    {
     "data": {
      "text/plain": [
       "Index(['Total 25-54 unemployment (%)',                           1981,\n",
       "                                 1982,                           1983,\n",
       "                                 1984,                           1985,\n",
       "                                 1986,                           1987,\n",
       "                                 1988,                           1989,\n",
       "                                 1990,                           1991,\n",
       "                                 1992,                           1993,\n",
       "                                 1994,                           1995,\n",
       "                                 1996,                           1997,\n",
       "                                 1998,                           1999,\n",
       "                                 2000,                           2001,\n",
       "                                 2002,                           2003,\n",
       "                                 2004,                           2005],\n",
       "      dtype='object')"
      ]
     },
     "execution_count": 28,
     "metadata": {},
     "output_type": "execute_result"
    }
   ],
   "source": [
    "df_unemp.columns"
   ]
  },
  {
   "cell_type": "markdown",
   "metadata": {
    "deletable": true,
    "editable": true
   },
   "source": [
    "## How do download other datasets from Gapminder\n",
    "\n",
    "- Go to http://www.gapminder.org/data/ and search for a dataset. \n",
    "- Get indicator name and url (link).\n",
    "- The dataset will be downloaded and can be retrieved later without specifying the url.\n",
    "\n",
    "![gapminder_download](gapminder_download.png)"
   ]
  },
  {
   "cell_type": "code",
   "execution_count": 29,
   "metadata": {
    "collapsed": false,
    "deletable": true,
    "editable": true
   },
   "outputs": [],
   "source": [
    "name = 'Suicide (per 100,000 people)'\n",
    "url = 'http://spreadsheets.google.com/pub?key=troMumuI0Y6Phpwnj6qXa_A&output=xls'\n",
    "df_sui = gm.get_dataset(name,url=url)"
   ]
  },
  {
   "cell_type": "code",
   "execution_count": 30,
   "metadata": {
    "collapsed": false,
    "deletable": true,
    "editable": true
   },
   "outputs": [
    {
     "data": {
      "text/plain": [
       "Index(['Suicide, age adjusted, per 100 000 standard population',\n",
       "                                                           1950,\n",
       "                                                           1951,\n",
       "                                                           1952,\n",
       "                                                           1953,\n",
       "                                                           1954,\n",
       "                                                           1955,\n",
       "                                                           1956,\n",
       "                                                           1957,\n",
       "                                                           1958,\n",
       "                                                           1959,\n",
       "                                                           1960,\n",
       "                                                           1961,\n",
       "                                                           1962,\n",
       "                                                           1963,\n",
       "                                                           1964,\n",
       "                                                           1965,\n",
       "                                                           1966,\n",
       "                                                           1967,\n",
       "                                                           1968,\n",
       "                                                           1969,\n",
       "                                                           1970,\n",
       "                                                           1971,\n",
       "                                                           1972,\n",
       "                                                           1973,\n",
       "                                                           1974,\n",
       "                                                           1975,\n",
       "                                                           1976,\n",
       "                                                           1977,\n",
       "                                                           1978,\n",
       "                                                           1979,\n",
       "                                                           1980,\n",
       "                                                           1981,\n",
       "                                                           1982,\n",
       "                                                           1983,\n",
       "                                                           1984,\n",
       "                                                           1985,\n",
       "                                                           1986,\n",
       "                                                           1987,\n",
       "                                                           1988,\n",
       "                                                           1989,\n",
       "                                                           1990,\n",
       "                                                           1991,\n",
       "                                                           1992,\n",
       "                                                           1993,\n",
       "                                                           1994,\n",
       "                                                           1995,\n",
       "                                                           1996,\n",
       "                                                           1997,\n",
       "                                                           1998,\n",
       "                                                           1999,\n",
       "                                                           2000,\n",
       "                                                           2001,\n",
       "                                                           2002,\n",
       "                                                           2003,\n",
       "                                                           2004,\n",
       "                                                           2005],\n",
       "      dtype='object')"
      ]
     },
     "execution_count": 30,
     "metadata": {},
     "output_type": "execute_result"
    }
   ],
   "source": [
    "df_sui.columns"
   ]
  },
  {
   "cell_type": "markdown",
   "metadata": {
    "collapsed": true,
    "deletable": true,
    "editable": true
   },
   "source": [
    "If the dataset is already downloaded, specifying an url is unnecessary (will not be used)."
   ]
  },
  {
   "cell_type": "code",
   "execution_count": 31,
   "metadata": {
    "collapsed": true,
    "deletable": true,
    "editable": true
   },
   "outputs": [],
   "source": [
    "df_sui2 = gm.get_dataset('Suicide (per 100,000 people)')"
   ]
  },
  {
   "cell_type": "code",
   "execution_count": 32,
   "metadata": {
    "collapsed": false,
    "deletable": true,
    "editable": true
   },
   "outputs": [
    {
     "data": {
      "text/plain": [
       "11286"
      ]
     },
     "execution_count": 32,
     "metadata": {},
     "output_type": "execute_result"
    }
   ],
   "source": [
    "df_sui2.size"
   ]
  },
  {
   "cell_type": "code",
   "execution_count": null,
   "metadata": {
    "collapsed": true,
    "deletable": true,
    "editable": true
   },
   "outputs": [],
   "source": []
  }
 ],
 "metadata": {
  "kernelspec": {
   "display_name": "Python 3",
   "language": "python",
   "name": "python3"
  },
  "language_info": {
   "codemirror_mode": {
    "name": "ipython",
    "version": 3
   },
   "file_extension": ".py",
   "mimetype": "text/x-python",
   "name": "python",
   "nbconvert_exporter": "python",
   "pygments_lexer": "ipython3",
   "version": "3.5.2"
  }
 },
 "nbformat": 4,
 "nbformat_minor": 2
}
