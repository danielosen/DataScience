{
 "cells": [
  {
   "cell_type": "markdown",
   "metadata": {
    "deletable": true,
    "editable": true
   },
   "source": [
    "# About notebook:\n",
    "This notebook contains extracts from the work on the ACLED dataset for the midterm in STK-INF4000.\n",
    "\n",
    "\n"
   ]
  },
  {
   "cell_type": "markdown",
   "metadata": {
    "deletable": true,
    "editable": true
   },
   "source": [
    "# Loading everything"
   ]
  },
  {
   "cell_type": "markdown",
   "metadata": {
    "deletable": true,
    "editable": true
   },
   "source": [
    "## Loading standard python modules"
   ]
  },
  {
   "cell_type": "code",
   "execution_count": null,
   "metadata": {
    "collapsed": false,
    "deletable": true,
    "editable": true
   },
   "outputs": [],
   "source": [
    "import pandas as pd\n",
    "import numpy as np\n",
    "import datetime\n",
    "\n",
    "import matplotlib.pyplot as plt\n",
    "%matplotlib inline\n",
    "\n",
    "# Adding modules folder to sys.path:\n",
    "import sys\n",
    "sys.path.insert(0, '../modules')"
   ]
  },
  {
   "cell_type": "markdown",
   "metadata": {
    "deletable": true,
    "editable": true
   },
   "source": [
    "### Auto-reloading external modules\n",
    "Ensure that all code inside our modules are reloaded upon new call to 'import'. Included to enable more rapid testing.\n",
    "\n",
    "For details, see:\n",
    "http://stackoverflow.com/questions/1907993/autoreload-of-modules-in-ipython"
   ]
  },
  {
   "cell_type": "code",
   "execution_count": 2,
   "metadata": {
    "collapsed": false,
    "deletable": true,
    "editable": true
   },
   "outputs": [],
   "source": [
    "%load_ext autoreload\n",
    "%autoreload 2\n",
    "print('Loaded')"
   ]
  },
  {
   "cell_type": "markdown",
   "metadata": {
    "deletable": true,
    "editable": true
   },
   "source": [
    "## Loading ACLED dataset\n",
    "The ACLED dataset is the main dataset for our project. From the ACLED projects' web site (http://www.acleddata.com/):\n",
    "\n",
    "    \"ACLED (Armed Conflict Location & Event Data Project) is the most comprehensive public collection of political violence and protest data for developing states.\"\n",
    "\n",
    "The dataset cointains more than 156.000 entries, from 1997 up until today. The ACLED dataset is updated with *realtime* data on a weekly basis. \n",
    "\n",
    "### Datasets module\n",
    "The datasets.ACLED class (imported below) connects to the ACLED API to download the latest available data to a **mongodb** database on the local computer. If the database already exists, a query to the API for updates is made and database updated as required."
   ]
  },
  {
   "cell_type": "code",
   "execution_count": 3,
   "metadata": {
    "collapsed": false,
    "deletable": true,
    "editable": true
   },
   "outputs": [],
   "source": [
    "import datasets"
   ]
  },
  {
   "cell_type": "code",
   "execution_count": 4,
   "metadata": {
    "collapsed": false,
    "deletable": true,
    "editable": true
   },
   "outputs": [],
   "source": [
    "acled = datasets.ACLED()\n",
    "acled.mongodb_update_database()"
   ]
  },
  {
   "cell_type": "markdown",
   "metadata": {
    "deletable": true,
    "editable": true
   },
   "source": [
    "#### Loading database content into Pandas dataframe:"
   ]
  },
  {
   "cell_type": "code",
   "execution_count": 5,
   "metadata": {
    "collapsed": false,
    "deletable": true,
    "editable": true
   },
   "outputs": [],
   "source": [
    "df_full = acled.mongodb_get_entire_database()"
   ]
  },
  {
   "cell_type": "markdown",
   "metadata": {
    "deletable": true,
    "editable": true
   },
   "source": [
    "## Loading ESRI shapefile\n",
    "\n",
    "For plotting, we're using ESRI shapefile vector geodata from [1] with **geopandas** and **Bokeh**. \n",
    "\n",
    "**References:**\n",
    "\n",
    "1) http://www.naturalearthdata.com/features/\n",
    "2) http://www.naturalearthdata.com/http//www.naturalearthdata.com/download/110m/cultural/ne_110m_admin_0_countries.zip\n",
    "\n",
    "**Instructions**: Download and unzip [2] and direct the variable 'link_ESRI_shp' to the directory of the .shp-file.\n",
    "\n",
    "**Dependencies**: Following python libraries required: bokeh, shapely, geopandas. Clang (or equivalent) is also required for these (For Ubuntu linux use: 'sudo apt-get install libgeos-dev')."
   ]
  },
  {
   "cell_type": "code",
   "execution_count": 6,
   "metadata": {
    "collapsed": false,
    "deletable": true,
    "editable": true
   },
   "outputs": [],
   "source": [
    "from ImportShapefile import ImportShapefile \n",
    "# Update the link to where you have stored the shapefiles:\n",
    "link = '../data/ne_110m_admin_0_countries/ne_110m_admin_0_countries.shp'\n",
    "\n",
    "gpd_df_full = ImportShapefile(link).get_df()\n",
    "\n",
    "# Mask on countries in Africa:\n",
    "mask = gpd_df_full['continent']=='Africa'\n",
    "gpd_df = gpd_df_full.loc[mask,:].reset_index(drop=True)\n",
    "\n",
    "del gpd_df_full"
   ]
  },
  {
   "cell_type": "markdown",
   "metadata": {
    "deletable": true,
    "editable": true
   },
   "source": [
    "###  Drop all except a few columns in geometry dataframe:"
   ]
  },
  {
   "cell_type": "code",
   "execution_count": 7,
   "metadata": {
    "collapsed": true,
    "deletable": true,
    "editable": true
   },
   "outputs": [],
   "source": [
    "gpd_df = gpd_df.loc[:, ('name','subregion','x', 'y', 'pop_est')]"
   ]
  },
  {
   "cell_type": "markdown",
   "metadata": {},
   "source": [
    "# Some preprocessing\n",
    "Now that we have loaded both the ACLED dataset and the geopandas dataframe, we need to do some pre-processing before we can use them together.\n",
    "\n",
    "In particular, the two datasets contain the name of the countries of Africa, however sometimes spelled differently (e.g. use of abbreviations). Let's align them:"
   ]
  },
  {
   "cell_type": "code",
   "execution_count": 8,
   "metadata": {
    "collapsed": false
   },
   "outputs": [
    {
     "name": "stdout",
     "output_type": "stream",
     "text": [
      "{'Central African Republic', 'Ivory Coast', 'Democratic Republic of Congo', 'Equatorial Guinea', 'South Sudan', 'Republic of Congo', 'Mozambique '}\n",
      "{'Congo', 'Central African Rep.', 'Somaliland', 'Eq. Guinea', 'Dem. Rep. Congo', 'W. Sahara', 'S. Sudan', \"Côte d'Ivoire\"}\n"
     ]
    }
   ],
   "source": [
    "# Begin by comparing the two:\n",
    "a = set(df_full['country'].unique())\n",
    "g = set(gpd_df['name'].unique())\n",
    "\n",
    "print(a.difference(g))\n",
    "print(g.difference(a))"
   ]
  },
  {
   "cell_type": "code",
   "execution_count": 9,
   "metadata": {
    "collapsed": true
   },
   "outputs": [],
   "source": [
    "# Manually assigning the matching countries:\n",
    "new_names = {\n",
    "            \"Côte d'Ivoire\": \"Ivory Coast\",\n",
    "            \"Dem. Rep. Congo\": \"Democratic Republic of Congo\",\n",
    "            \"S. Sudan\": \"South Sudan\",\n",
    "            \"Central African Rep.\": \"Central African Republic\",\n",
    "            \"Congo\": \"Republic of Congo\",\n",
    "            \"Eq. Guinea\": \"Equatorial Guinea\"\n",
    "}\n",
    "\n",
    "gpd_df.replace({\"name\": new_names}, inplace=True)"
   ]
  },
  {
   "cell_type": "code",
   "execution_count": 10,
   "metadata": {
    "collapsed": false,
    "scrolled": true
   },
   "outputs": [
    {
     "name": "stdout",
     "output_type": "stream",
     "text": [
      "{'Mozambique '}\n",
      "{'Somaliland', 'W. Sahara'}\n"
     ]
    }
   ],
   "source": [
    "# Check again:\n",
    "a = set(df_full['country'].unique())\n",
    "g = set(gpd_df['name'].unique())\n",
    "\n",
    "print(a.difference(g))\n",
    "print(g.difference(a))"
   ]
  },
  {
   "cell_type": "markdown",
   "metadata": {},
   "source": [
    "* One datapoint in the ACLED dataset is stored with a whitespace ('Mozambique '). Let's replace it.\n",
    " \n",
    "* 'W. Sahara', 'Somaliland' are more complicated matters, as they are disputed territories.\n",
    "\n",
    "  * 'W. Sahara' \n",
    "  The approach that aligns best with the ACLED dataset is to consider Western Sahara to be a part of Morocco, refers:\n",
    "  https://en.wikipedia.org/wiki/Sahrawi_Arab_Democratic_Republic#International_recognition_and_membership\n",
    "  \n",
    "  * 'Somaliland'\n",
    "  In the ACLED dataset, Somaliland is considered part of Somalia\n"
   ]
  },
  {
   "cell_type": "code",
   "execution_count": 11,
   "metadata": {
    "collapsed": false
   },
   "outputs": [],
   "source": [
    "# Solving point 1:\n",
    "df_full.loc[df_full['country']=='Mozambique ', 'country'] = 'Mozambique'\n",
    "\n",
    "# Solving point 2:\n",
    "# Merging the two rows of the data and the corresponding geometries.\n",
    "\"\"\" TO BE DONE\n",
    "\"\"\"\n",
    "None"
   ]
  },
  {
   "cell_type": "markdown",
   "metadata": {
    "deletable": true,
    "editable": true
   },
   "source": [
    "### Creating 'area' column:\n",
    "Adding column containing 'proportionate area' (*).\n",
    "\n",
    "** *:** I don't know the unit of the resulting areas. Numbers are at least proportionate to the countries area..."
   ]
  },
  {
   "cell_type": "code",
   "execution_count": null,
   "metadata": {
    "collapsed": false,
    "deletable": true,
    "editable": true
   },
   "outputs": [],
   "source": [
    "gpd_df['area_p'] = gpd_df['geometry'].area"
   ]
  },
  {
   "cell_type": "markdown",
   "metadata": {
    "deletable": true,
    "editable": true
   },
   "source": [
    "## Loading Bokeh-geopandas plotting class"
   ]
  },
  {
   "cell_type": "code",
   "execution_count": null,
   "metadata": {
    "collapsed": false,
    "deletable": true,
    "editable": true
   },
   "outputs": [],
   "source": [
    "import BokehPlottingScripts as BPS"
   ]
  },
  {
   "cell_type": "code",
   "execution_count": null,
   "metadata": {
    "collapsed": false,
    "deletable": true,
    "editable": true
   },
   "outputs": [],
   "source": [
    "# Example plot:\n",
    "p = BPS.bokeh_plot_map(gpd_df, data='area_p', title='Africa - Colour proportionate with area')"
   ]
  },
  {
   "cell_type": "markdown",
   "metadata": {
    "deletable": true,
    "editable": true
   },
   "source": [
    "## Another plot (test)"
   ]
  },
  {
   "cell_type": "code",
   "execution_count": null,
   "metadata": {
    "collapsed": false,
    "deletable": true,
    "editable": true
   },
   "outputs": [],
   "source": [
    "gpd_df['test'] = 0\n",
    "ind = gpd_df.loc[:,'name']=='Dem. Rep. Congo'\n",
    "gpd_df.loc[ind, 'test']=1\n",
    "q = BPS.bokeh_plot_map(gpd_df, data='test', title='Africa - Colour proportionate with area')"
   ]
  },
  {
   "cell_type": "markdown",
   "metadata": {
    "deletable": true,
    "editable": true
   },
   "source": [
    "# Exploring the ACLED dataset\n",
    "For this project, we focus on analysis of one country. Let's list the countries with the most entries:"
   ]
  },
  {
   "cell_type": "code",
   "execution_count": null,
   "metadata": {
    "collapsed": false,
    "deletable": true,
    "editable": true
   },
   "outputs": [],
   "source": [
    "df_full['country'].value_counts().head()"
   ]
  },
  {
   "cell_type": "code",
   "execution_count": null,
   "metadata": {
    "collapsed": false,
    "deletable": true,
    "editable": true
   },
   "outputs": [],
   "source": [
    "#country_to_analyze = 'Somalia'\n",
    "country_to_analyze = 'Democratic Republic of Congo'\n",
    "\n",
    "# New dataframe, filtering on one country:\n",
    "df = df_full.loc[df_full.loc[:,'country']==country_to_analyze].reset_index(drop=True)\n",
    "\n",
    "print(\"The dataframe now contains\", len(df), \"entries.\")"
   ]
  },
  {
   "cell_type": "markdown",
   "metadata": {
    "deletable": true,
    "editable": true
   },
   "source": [
    "## Types of events\n",
    "The dataset cointains the categorical column **event_type**, describing the different types of events in the dataset (e.g., 'riots/protests' and 'violence against civilians')."
   ]
  },
  {
   "cell_type": "code",
   "execution_count": null,
   "metadata": {
    "collapsed": false,
    "deletable": true,
    "editable": true,
    "scrolled": false
   },
   "outputs": [],
   "source": [
    "print(df['event_type'].value_counts())"
   ]
  },
  {
   "cell_type": "code",
   "execution_count": null,
   "metadata": {
    "collapsed": false,
    "deletable": true,
    "editable": true
   },
   "outputs": [],
   "source": [
    "df_piv = df.pivot_table(index='event_date',\n",
    "                              columns='event_type',\n",
    "                              values='fatalities',\n",
    "                              aggfunc=np.count_nonzero) # Aggregate count of events\n",
    "\n",
    "df_piv = df_piv.fillna(0)\n",
    "resample_freq = '3M'\n",
    "df_piv = df_piv.resample(resample_freq).sum()\n",
    "\n",
    "ax = df_piv.plot(marker='.', linestyle='dotted', figsize=(15,8))\n",
    "ax.set_title(\"Number of incidents over time (each data point corresponds to time window of \"+resample_freq+\")\")\n",
    "ax.set_ylabel(\"Number of incidents/events (per \"+resample_freq+\")\")\n",
    "ax.set_xlabel(\"Month\")\n"
   ]
  },
  {
   "cell_type": "markdown",
   "metadata": {
    "deletable": true,
    "editable": true
   },
   "source": [
    "## Fatalities\n",
    "Each datapoint also contains a column with an estaimate of the number of fatalities of the incident described.\n",
    "\n",
    "Let's look at the data:"
   ]
  },
  {
   "cell_type": "code",
   "execution_count": null,
   "metadata": {
    "collapsed": false,
    "deletable": true,
    "editable": true
   },
   "outputs": [],
   "source": [
    "df_p_fat = df.pivot_table(index='event_date',\n",
    "                              columns='event_type',\n",
    "                              values='fatalities',\n",
    "                              aggfunc=np.sum) # This time we add (instead of count)\n",
    "\n",
    "stats = df_p_fat.describe().loc[['mean', 'std', 'max']]\n",
    "# Adding total:\n",
    "stats = stats.append(pd.Series(df_p_fat.sum(), name='sum', dtype='int'))\n",
    "stats"
   ]
  },
  {
   "cell_type": "markdown",
   "metadata": {
    "deletable": true,
    "editable": true
   },
   "source": [
    "The dataset event also contains the column **fatalities**:"
   ]
  },
  {
   "cell_type": "markdown",
   "metadata": {
    "deletable": true,
    "editable": true
   },
   "source": [
    "# Everything below here still in work:"
   ]
  },
  {
   "cell_type": "markdown",
   "metadata": {
    "deletable": true,
    "editable": true
   },
   "source": [
    "## Outliers, if we want to..."
   ]
  },
  {
   "cell_type": "code",
   "execution_count": null,
   "metadata": {
    "collapsed": false,
    "deletable": true,
    "editable": true
   },
   "outputs": [],
   "source": [
    "import matplotlib.pyplot as plt\n",
    "%matplotlib inline"
   ]
  },
  {
   "cell_type": "code",
   "execution_count": null,
   "metadata": {
    "collapsed": false,
    "deletable": true,
    "editable": true
   },
   "outputs": [],
   "source": [
    "mu, sd = df['fatalities'].describe()[1:3]\n",
    "z_values = (df['fatalities']-mu)/sd\n",
    "z_values.head(5)"
   ]
  },
  {
   "cell_type": "code",
   "execution_count": null,
   "metadata": {
    "collapsed": false,
    "deletable": true,
    "editable": true
   },
   "outputs": [],
   "source": [
    "\n",
    "fat = df[df['fatalities']>=1]\n",
    "\n",
    "\n",
    "fat['fatalities'].plot.hist(bins=1000)\n",
    "plt.yscale('log')\n",
    "plt.xlim(0,1000)"
   ]
  },
  {
   "cell_type": "code",
   "execution_count": null,
   "metadata": {
    "collapsed": false,
    "deletable": true,
    "editable": true
   },
   "outputs": [],
   "source": [
    "fat_zero = sum(df['fatalities']<1)\n",
    "fat_nonzero = sum(df['fatalities']>=1)\n",
    "\n",
    "print(\"No fat:\", fat_zero, \"Fat:\", fat_nonzero, \"Fraction:\", fat_nonzero/(fat_nonzero+fat_zero))"
   ]
  },
  {
   "cell_type": "code",
   "execution_count": null,
   "metadata": {
    "collapsed": false,
    "deletable": true,
    "editable": true
   },
   "outputs": [],
   "source": [
    "df['fatalities'].describe()"
   ]
  },
  {
   "cell_type": "code",
   "execution_count": null,
   "metadata": {
    "collapsed": false,
    "deletable": true,
    "editable": true
   },
   "outputs": [],
   "source": [
    "\n",
    "fat = df[df['fatalities']>=0]\n",
    "\n",
    "\n",
    "fat['fatalities'].plot.hist(bins=100)\n",
    "plt.yscale('log')\n",
    "#plt.xlim(0,1000)"
   ]
  },
  {
   "cell_type": "markdown",
   "metadata": {
    "deletable": true,
    "editable": true
   },
   "source": [
    "## Plotting some conflicts"
   ]
  },
  {
   "cell_type": "code",
   "execution_count": null,
   "metadata": {
    "collapsed": true,
    "deletable": true,
    "editable": true
   },
   "outputs": [],
   "source": [
    "from shapely.geometry import Point\n",
    "\n",
    "def apply_geo_points(df):\n",
    "    return Point(df['latitude'], df['longitude'])\n",
    "\n",
    "df['geo_point'] = df.apply(apply_geo_points, axis=1)"
   ]
  },
  {
   "cell_type": "code",
   "execution_count": null,
   "metadata": {
    "collapsed": true,
    "deletable": true,
    "editable": true
   },
   "outputs": [],
   "source": [
    "df_remote_v = df.loc[:,]"
   ]
  },
  {
   "cell_type": "code",
   "execution_count": null,
   "metadata": {
    "collapsed": true,
    "deletable": true,
    "editable": true
   },
   "outputs": [],
   "source": [
    "from geopandas import GeoSeries\n",
    "\n",
    "geoseries = GeoSeries(df['geo_point'])\n",
    "geoseries.crs = {'init': 'epsg:4326'}"
   ]
  },
  {
   "cell_type": "code",
   "execution_count": null,
   "metadata": {
    "collapsed": true,
    "deletable": true,
    "editable": true
   },
   "outputs": [],
   "source": [
    "from bokeh.io import output_notebook, show\n"
   ]
  },
  {
   "cell_type": "code",
   "execution_count": null,
   "metadata": {
    "collapsed": false,
    "deletable": true,
    "editable": true
   },
   "outputs": [],
   "source": [
    "#https://anaconda.org/debboutr/lightning/notebook\n",
    "p.circle([df.latitude], [df.longitude], size=10)"
   ]
  },
  {
   "cell_type": "code",
   "execution_count": null,
   "metadata": {
    "collapsed": false,
    "deletable": true,
    "editable": true
   },
   "outputs": [],
   "source": [
    "show(p)"
   ]
  },
  {
   "cell_type": "code",
   "execution_count": null,
   "metadata": {
    "collapsed": false,
    "deletable": true,
    "editable": true
   },
   "outputs": [],
   "source": [
    "df['geo_point'].x"
   ]
  },
  {
   "cell_type": "code",
   "execution_count": null,
   "metadata": {
    "collapsed": false,
    "deletable": true,
    "editable": true
   },
   "outputs": [],
   "source": [
    "df['latitude'][0]"
   ]
  },
  {
   "cell_type": "code",
   "execution_count": null,
   "metadata": {
    "collapsed": false,
    "deletable": true,
    "editable": true
   },
   "outputs": [],
   "source": [
    "\n",
    "geoseries.plot(marker='.', color='red', markersize=12, figsize=(4, 4))\n",
    "#plt.xlim([-123, -119.8])\n",
    "#plt.ylim([44.8, 47.7]);"
   ]
  },
  {
   "cell_type": "code",
   "execution_count": null,
   "metadata": {
    "collapsed": false,
    "deletable": true,
    "editable": true
   },
   "outputs": [],
   "source": [
    "df['geo_point'][0].plot(marker='*', color='green', markersize=5)"
   ]
  },
  {
   "cell_type": "code",
   "execution_count": null,
   "metadata": {
    "collapsed": false,
    "deletable": true,
    "editable": true
   },
   "outputs": [],
   "source": [
    "pd.set_option('Max_columns',30)"
   ]
  },
  {
   "cell_type": "code",
   "execution_count": null,
   "metadata": {
    "collapsed": false,
    "deletable": true,
    "editable": true
   },
   "outputs": [],
   "source": [
    "test = df.loc[df['fatalities']>1000]['notes']"
   ]
  },
  {
   "cell_type": "code",
   "execution_count": null,
   "metadata": {
    "collapsed": false,
    "deletable": true,
    "editable": true
   },
   "outputs": [],
   "source": [
    "test."
   ]
  },
  {
   "cell_type": "code",
   "execution_count": null,
   "metadata": {
    "collapsed": false,
    "deletable": true,
    "editable": true
   },
   "outputs": [],
   "source": [
    "df['fatalities'].hist(bins=30)"
   ]
  },
  {
   "cell_type": "code",
   "execution_count": null,
   "metadata": {
    "collapsed": false,
    "deletable": true,
    "editable": true
   },
   "outputs": [],
   "source": [
    "df.keys()"
   ]
  },
  {
   "cell_type": "code",
   "execution_count": null,
   "metadata": {
    "collapsed": false,
    "deletable": true,
    "editable": true
   },
   "outputs": [],
   "source": [
    "print(df['actor2'].value_counts().head(15))"
   ]
  },
  {
   "cell_type": "code",
   "execution_count": null,
   "metadata": {
    "collapsed": true,
    "deletable": true,
    "editable": true
   },
   "outputs": [],
   "source": []
  }
 ],
 "metadata": {
  "kernelspec": {
   "display_name": "Python 3",
   "language": "python",
   "name": "python3"
  },
  "language_info": {
   "codemirror_mode": {
    "name": "ipython",
    "version": 3
   },
   "file_extension": ".py",
   "mimetype": "text/x-python",
   "name": "python",
   "nbconvert_exporter": "python",
   "pygments_lexer": "ipython3",
   "version": "3.6.0"
  }
 },
 "nbformat": 4,
 "nbformat_minor": 2
}
